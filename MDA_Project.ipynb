{
  "cells": [
    {
      "cell_type": "markdown",
      "metadata": {
        "id": "pyE8OeAmm_cc"
      },
      "source": [
        "# Idea 1 (Getting Familiar with the Dataset)"
      ]
    },
    {
      "cell_type": "markdown",
      "metadata": {
        "id": "RrV_9EtkmRFL"
      },
      "source": [
        "#### This part is the first step of the project. In this notebook we try to figure out what is our data and what we can do with it. In the other word, in this notebook we try to get familiar with the data and generate new ideas for the next parts. Let's see what we have :)"
      ]
    },
    {
      "cell_type": "markdown",
      "metadata": {
        "id": "YSb0Jcngm4Z0"
      },
      "source": [
        "#### At first we setup the pre-requirements for coding."
      ]
    },
    {
      "cell_type": "code",
      "execution_count": 1,
      "metadata": {
        "colab": {
          "base_uri": "https://localhost:8080/"
        },
        "id": "aQT7V_2Dey-p",
        "outputId": "e685b9a1-9975-4266-c4c8-ab63ee2c49c6"
      },
      "outputs": [
        {
          "name": "stdout",
          "output_type": "stream",
          "text": [
            "Looking in indexes: https://pypi.org/simple, https://us-python.pkg.dev/colab-wheels/public/simple/\n",
            "Collecting pyspark\n",
            "  Downloading pyspark-3.3.1.tar.gz (281.4 MB)\n",
            "\u001b[2K     \u001b[90m━━━━━━━━━━━━━━━━━━━━━━━━━━━━━━━━━━━━━━━\u001b[0m \u001b[32m281.4/281.4 MB\u001b[0m \u001b[31m5.3 MB/s\u001b[0m eta \u001b[36m0:00:00\u001b[0m\n",
            "\u001b[?25h  Preparing metadata (setup.py) ... \u001b[?25l\u001b[?25hdone\n",
            "Collecting py4j==0.10.9.5\n",
            "  Downloading py4j-0.10.9.5-py2.py3-none-any.whl (199 kB)\n",
            "\u001b[2K     \u001b[90m━━━━━━━━━━━━━━━━━━━━━━━━━━━━━━━━━━━━━━\u001b[0m \u001b[32m199.7/199.7 KB\u001b[0m \u001b[31m14.2 MB/s\u001b[0m eta \u001b[36m0:00:00\u001b[0m\n",
            "\u001b[?25hBuilding wheels for collected packages: pyspark\n",
            "  Building wheel for pyspark (setup.py) ... \u001b[?25l\u001b[?25hdone\n",
            "  Created wheel for pyspark: filename=pyspark-3.3.1-py2.py3-none-any.whl size=281845512 sha256=fc996de32612553b27601fbfb2a44b4a609b05471b770ad1c7dfbea30ef52231\n",
            "  Stored in directory: /root/.cache/pip/wheels/43/dc/11/ec201cd671da62fa9c5cc77078235e40722170ceba231d7598\n",
            "Successfully built pyspark\n",
            "Installing collected packages: py4j, pyspark\n",
            "Successfully installed py4j-0.10.9.5 pyspark-3.3.1\n",
            "The following package was automatically installed and is no longer required:\n",
            "  libnvidia-common-510\n",
            "Use 'apt autoremove' to remove it.\n",
            "The following additional packages will be installed:\n",
            "  openjdk-8-jre-headless\n",
            "Suggested packages:\n",
            "  openjdk-8-demo openjdk-8-source libnss-mdns fonts-dejavu-extra\n",
            "  fonts-ipafont-gothic fonts-ipafont-mincho fonts-wqy-microhei\n",
            "  fonts-wqy-zenhei fonts-indic\n",
            "The following NEW packages will be installed:\n",
            "  openjdk-8-jdk-headless openjdk-8-jre-headless\n",
            "0 upgraded, 2 newly installed, 0 to remove and 21 not upgraded.\n",
            "Need to get 36.5 MB of archives.\n",
            "After this operation, 143 MB of additional disk space will be used.\n",
            "Selecting previously unselected package openjdk-8-jre-headless:amd64.\n",
            "(Reading database ... 128048 files and directories currently installed.)\n",
            "Preparing to unpack .../openjdk-8-jre-headless_8u352-ga-1~20.04_amd64.deb ...\n",
            "Unpacking openjdk-8-jre-headless:amd64 (8u352-ga-1~20.04) ...\n",
            "Selecting previously unselected package openjdk-8-jdk-headless:amd64.\n",
            "Preparing to unpack .../openjdk-8-jdk-headless_8u352-ga-1~20.04_amd64.deb ...\n",
            "Unpacking openjdk-8-jdk-headless:amd64 (8u352-ga-1~20.04) ...\n",
            "Setting up openjdk-8-jre-headless:amd64 (8u352-ga-1~20.04) ...\n",
            "update-alternatives: using /usr/lib/jvm/java-8-openjdk-amd64/jre/bin/orbd to provide /usr/bin/orbd (orbd) in auto mode\n",
            "update-alternatives: using /usr/lib/jvm/java-8-openjdk-amd64/jre/bin/servertool to provide /usr/bin/servertool (servertool) in auto mode\n",
            "update-alternatives: using /usr/lib/jvm/java-8-openjdk-amd64/jre/bin/tnameserv to provide /usr/bin/tnameserv (tnameserv) in auto mode\n",
            "Setting up openjdk-8-jdk-headless:amd64 (8u352-ga-1~20.04) ...\n",
            "update-alternatives: using /usr/lib/jvm/java-8-openjdk-amd64/bin/idlj to provide /usr/bin/idlj (idlj) in auto mode\n",
            "update-alternatives: using /usr/lib/jvm/java-8-openjdk-amd64/bin/wsimport to provide /usr/bin/wsimport (wsimport) in auto mode\n",
            "update-alternatives: using /usr/lib/jvm/java-8-openjdk-amd64/bin/jsadebugd to provide /usr/bin/jsadebugd (jsadebugd) in auto mode\n",
            "update-alternatives: using /usr/lib/jvm/java-8-openjdk-amd64/bin/native2ascii to provide /usr/bin/native2ascii (native2ascii) in auto mode\n",
            "update-alternatives: using /usr/lib/jvm/java-8-openjdk-amd64/bin/javah to provide /usr/bin/javah (javah) in auto mode\n",
            "update-alternatives: using /usr/lib/jvm/java-8-openjdk-amd64/bin/clhsdb to provide /usr/bin/clhsdb (clhsdb) in auto mode\n",
            "update-alternatives: using /usr/lib/jvm/java-8-openjdk-amd64/bin/xjc to provide /usr/bin/xjc (xjc) in auto mode\n",
            "update-alternatives: using /usr/lib/jvm/java-8-openjdk-amd64/bin/hsdb to provide /usr/bin/hsdb (hsdb) in auto mode\n",
            "update-alternatives: using /usr/lib/jvm/java-8-openjdk-amd64/bin/schemagen to provide /usr/bin/schemagen (schemagen) in auto mode\n",
            "update-alternatives: using /usr/lib/jvm/java-8-openjdk-amd64/bin/extcheck to provide /usr/bin/extcheck (extcheck) in auto mode\n",
            "update-alternatives: using /usr/lib/jvm/java-8-openjdk-amd64/bin/jhat to provide /usr/bin/jhat (jhat) in auto mode\n",
            "update-alternatives: using /usr/lib/jvm/java-8-openjdk-amd64/bin/wsgen to provide /usr/bin/wsgen (wsgen) in auto mode\n"
          ]
        }
      ],
      "source": [
        "!pip install pyspark\n",
        "!pip install -U -q PyDrive\n",
        "!apt install openjdk-8-jdk-headless -qq\n",
        "import os\n",
        "os.environ[\"JAVA_HOME\"] = \"/usr/lib/jvm/java-8-openjdk-amd64\""
      ]
    },
    {
      "cell_type": "code",
      "execution_count": null,
      "metadata": {
        "colab": {
          "base_uri": "https://localhost:8080/"
        },
        "id": "b90Pgzjce1CV",
        "outputId": "fa609038-0756-4c07-9bbb-22cb23978214"
      },
      "outputs": [
        {
          "name": "stdout",
          "output_type": "stream",
          "text": [
            "Mounted at /content/drive\n"
          ]
        }
      ],
      "source": [
        "from google.colab import drive\n",
        "# This will prompt for authorization.\n",
        "drive.mount('/content/drive')"
      ]
    },
    {
      "cell_type": "code",
      "execution_count": null,
      "metadata": {
        "colab": {
          "base_uri": "https://localhost:8080/"
        },
        "id": "xiap1ibpjvW1",
        "outputId": "24ce3fca-b9e6-44d3-8c7b-61bca92d8dcc"
      },
      "outputs": [
        {
          "name": "stdout",
          "output_type": "stream",
          "text": [
            "Archive:  /content/drive/MyDrive/MDA_Project_Dataset/MDA2022ProjectData.zip\n",
            "  inflating: ./MDA2022ProjectData.csv  \n"
          ]
        }
      ],
      "source": [
        "!unzip \"/content/drive/MyDrive/MDA_Project_Dataset/MDA2022ProjectData.zip\" -d \"./\""
      ]
    },
    {
      "cell_type": "code",
      "execution_count": null,
      "metadata": {
        "id": "mg0Q-1jwOs0l"
      },
      "outputs": [],
      "source": [
        "from pyspark.sql import SparkSession\n",
        "from pyspark.sql.types import StructType,StructField, StringType, IntegerType,TimestampType\n",
        "\n",
        "spark = SparkSession \\\n",
        "    .builder \\\n",
        "    .appName(\"Spark_Processor\") \\\n",
        "    .master(\"local[*]\") \\\n",
        "    .getOrCreate()\n",
        "\n",
        "sc = spark.sparkContext\n",
        "\n",
        "schema = StructType([ \\\n",
        "        StructField(\"DEVICE_CODE\", IntegerType(), True), \n",
        "        StructField(\"SYSTEM_ID\",IntegerType(),True), \\\n",
        "        StructField(\"ORIGINE_CAR_KEY\",IntegerType(),True), \\\n",
        "        StructField(\"FINAL_CAR_KEY\", IntegerType(),True), \\\n",
        "        StructField(\"CHECK_STATUS_KEY\", IntegerType(), True), \\\n",
        "        StructField(\"COMPANY_ID\", StringType(), True), \\\n",
        "        StructField(\"PASS_DAY_TIME\", TimestampType(), True)\n",
        "    ])"
      ]
    },
    {
      "cell_type": "markdown",
      "metadata": {
        "id": "wjbnOc5Cnmnj"
      },
      "source": [
        "#### Now in below cell, first 5 row of the data are shown."
      ]
    },
    {
      "cell_type": "code",
      "execution_count": null,
      "metadata": {
        "colab": {
          "base_uri": "https://localhost:8080/"
        },
        "id": "uc6EQzW8Os0t",
        "outputId": "7b191728-837c-4b92-eb82-2f521b7101ac"
      },
      "outputs": [
        {
          "name": "stdout",
          "output_type": "stream",
          "text": [
            "+-----------+---------+---------------+-------------+----------------+----------+-------------------+\n",
            "|DEVICE_CODE|SYSTEM_ID|ORIGINE_CAR_KEY|FINAL_CAR_KEY|CHECK_STATUS_KEY|COMPANY_ID|      PASS_DAY_TIME|\n",
            "+-----------+---------+---------------+-------------+----------------+----------+-------------------+\n",
            "|   22010047|      284|       63455590|     63455590|               6|       161|2021-12-22 00:59:30|\n",
            "|   22010054|      284|       63566637|     64111706|               7|       161|2021-12-22 01:24:58|\n",
            "|   22010057|      284|       63653636|     63653636|               6|       161|2021-12-22 00:46:37|\n",
            "|   22010039|      284|       63562975|     64111706|               7|       161|2021-12-22 00:27:32|\n",
            "|   22010053|      284|       63634047|     64111706|               7|       161|2021-12-22 01:29:24|\n",
            "|  100701119|      284|       63466030|     64111706|               7|       161|2021-12-22 01:05:33|\n",
            "|   22010047|      284|       63479234|     63479234|               6|       161|2021-12-22 00:48:53|\n",
            "|   22010078|      284|       63474042|     64111706|               7|       161|2021-12-22 01:31:40|\n",
            "|  100701298|      284|       63473689|     63473689|               6|       264|2021-12-22 00:25:50|\n",
            "|   22010054|      284|       62996037|     62996037|               6|       161|2021-12-22 00:50:17|\n",
            "|   22010054|      284|       63445841|     64111706|               7|       161|2021-12-22 01:24:18|\n",
            "|   22010044|      284|       62982992|     62982992|               6|       161|2021-12-22 01:02:03|\n",
            "|  100701144|      284|       63604895|     63604895|               6|       264|2021-12-22 00:43:28|\n",
            "|   22010053|      284|       62986841|     64111706|               7|       161|2021-12-22 00:50:05|\n",
            "|   22010044|      284|       63011708|     63011708|               6|       161|2021-12-22 01:01:51|\n",
            "|   22010039|      284|       63318470|     63318470|               6|       161|2021-12-22 00:46:42|\n",
            "|   22010048|      284|       63594865|     63594865|               6|       161|2021-12-22 01:02:43|\n",
            "|  100701148|      284|       63011923|     64111706|               7|       264|2021-12-22 02:00:29|\n",
            "|   22010054|      284|       63326471|     63326471|               6|       161|2021-12-22 00:46:34|\n",
            "|   22010047|      284|       63547093|     63547093|               6|       161|2021-12-22 00:56:57|\n",
            "+-----------+---------+---------------+-------------+----------------+----------+-------------------+\n",
            "only showing top 20 rows\n",
            "\n"
          ]
        }
      ],
      "source": [
        "df = spark.read.csv('MDA2022ProjectData.csv',header=True,schema=schema)\n",
        "df.show(20)"
      ]
    },
    {
      "cell_type": "markdown",
      "metadata": {
        "id": "ewFtR4TaVeGS"
      },
      "source": [
        "#### As we can see the data has 7 columns which contains: “DEVICE_CODE”, “SYSTEM_ID”, “ORIGINE_CAR_KEY”, “FINAL_CAR_KEY” etc."
      ]
    },
    {
      "cell_type": "markdown",
      "metadata": {
        "id": "ioxQtvhgQg8Q"
      },
      "source": [
        "#### Now in this part we try to report the data by using summary command. The summary function shows many aspects of the dataframe such as mean, variance, SD, min, max, first quartile, third quartile and etc. The result of summarizing is shown in below cell."
      ]
    },
    {
      "cell_type": "code",
      "execution_count": null,
      "metadata": {
        "colab": {
          "base_uri": "https://localhost:8080/"
        },
        "id": "h1RmC4UrRR9W",
        "outputId": "8dc3a779-3f2c-479c-cdfb-963d81bdf999"
      },
      "outputs": [
        {
          "name": "stdout",
          "output_type": "stream",
          "text": [
            "+-------+--------------------+------------------+--------------------+--------------------+-----------------+------------------+\n",
            "|summary|         DEVICE_CODE|         SYSTEM_ID|     ORIGINE_CAR_KEY|       FINAL_CAR_KEY| CHECK_STATUS_KEY|        COMPANY_ID|\n",
            "+-------+--------------------+------------------+--------------------+--------------------+-----------------+------------------+\n",
            "|  count|           137860560|         137860560|           137860560|           137500256|        137500256|         137860560|\n",
            "|   mean|2.0409413625759594E7|228.91315492262618|3.8876864354355924E7| 4.023159558635585E7| 5.43343081484881|214.39138850879468|\n",
            "| stddev| 3.658430903524803E7| 87.57389372594602|3.2729616408470348E7|3.1743341283397306E7|0.696407497939759| 65.47375894020084|\n",
            "|    min|                 100|                81|             7631921|             7631921|                1|                 0|\n",
            "|    25%|              631799|               102|            10104804|            10326422|                5|             161.0|\n",
            "|    50%|              900223|               283|            22729909|            26795188|                5|             264.0|\n",
            "|    75%|            22010053|               283|            70730566|            65210636|                6|             264.0|\n",
            "|    max|           100701303|               284|           105603858|           105603858|                7|                61|\n",
            "+-------+--------------------+------------------+--------------------+--------------------+-----------------+------------------+\n",
            "\n"
          ]
        }
      ],
      "source": [
        "df.summary().show()"
      ]
    },
    {
      "cell_type": "markdown",
      "metadata": {
        "id": "ODHlH-LAoHKx"
      },
      "source": [
        "#### Now for the first attempt we try to count number of the all rows of data ,number of cars, number of cameras, number of systems, number of companies in the below cell. The result is shown in below:"
      ]
    },
    {
      "cell_type": "code",
      "execution_count": null,
      "metadata": {
        "colab": {
          "base_uri": "https://localhost:8080/"
        },
        "id": "RBpHtZk6tHOK",
        "outputId": "1b9df817-0f63-4c99-f67c-c063d87b9771"
      },
      "outputs": [
        {
          "name": "stdout",
          "output_type": "stream",
          "text": [
            "the numbers of all of the data =   137860560\n",
            "the numbers of all the cars =   11825779\n",
            "the numbers of all the cameras =   983\n",
            "the numbers of all the systems =   10\n",
            "the numbers of all the companies =   7\n"
          ]
        }
      ],
      "source": [
        "data_count = df.count()\n",
        "car_count = df.select('FINAL_CAR_KEY').distinct().count()\n",
        "camera_count = df.select('DEVICE_CODE').distinct().count()\n",
        "system_count = df.select('SYSTEM_ID').distinct().count()\n",
        "company_count = df.select('COMPANY_ID').distinct().count()\n",
        "\n",
        "print('the numbers of all of the data =  ', data_count)\n",
        "print('the numbers of all the cars =  ', car_count)\n",
        "print('the numbers of all the cameras =  ', camera_count)\n",
        "print('the numbers of all the systems =  ', system_count)\n",
        "print('the numbers of all the companies =  ', company_count)"
      ]
    },
    {
      "cell_type": "markdown",
      "metadata": {
        "id": "oP0Bno4fvuvh"
      },
      "source": [
        "#### Now in the next cell we try to find the most passed cars and see which car has the most passing through cameras. The result is shown in below."
      ]
    },
    {
      "cell_type": "code",
      "execution_count": null,
      "metadata": {
        "colab": {
          "base_uri": "https://localhost:8080/"
        },
        "id": "U3bLvvcZOs0x",
        "outputId": "bf6d9b6d-d183-4b8f-ec58-f0e81d2ae168"
      },
      "outputs": [
        {
          "name": "stdout",
          "output_type": "stream",
          "text": [
            "+-------------+--------+\n",
            "|FINAL_CAR_KEY|   count|\n",
            "+-------------+--------+\n",
            "|     64111706|12749535|\n",
            "|         null|  360304|\n",
            "|     69177480|  321060|\n",
            "|      8073331|  147394|\n",
            "|     91715532|    3033|\n",
            "|      7633319|    2208|\n",
            "|      7682972|    1834|\n",
            "|      8282689|    1667|\n",
            "|     12481252|    1655|\n",
            "|      8396536|    1651|\n",
            "+-------------+--------+\n",
            "only showing top 10 rows\n",
            "\n"
          ]
        }
      ],
      "source": [
        "car_passing_count = df.groupBy('FINAL_CAR_KEY').count()\n",
        "car_passing_count.sort('count', ascending=False).show(10)"
      ]
    },
    {
      "cell_type": "markdown",
      "metadata": {
        "id": "30zV_UI3wCz_"
      },
      "source": [
        "#### As we can see, we have some null cars in the data. We can conclude that the data may have some null values. In this part we try to delete the rows with null values in 'FINAL_CAR_KEY' in the dataset and then try to count the cars. the result is shown in below cell."
      ]
    },
    {
      "cell_type": "code",
      "execution_count": null,
      "metadata": {
        "colab": {
          "base_uri": "https://localhost:8080/"
        },
        "id": "u4fl9U7Zw54e",
        "outputId": "ca95bbf6-a4d0-4504-ceb2-ddb4f2c38da6"
      },
      "outputs": [
        {
          "name": "stdout",
          "output_type": "stream",
          "text": [
            "+-------------+--------+\n",
            "|FINAL_CAR_KEY|   count|\n",
            "+-------------+--------+\n",
            "|     64111706|12749535|\n",
            "|     69177480|  321060|\n",
            "|      8073331|  147394|\n",
            "|     91715532|    3033|\n",
            "|      7633319|    2208|\n",
            "|      7682972|    1834|\n",
            "|      8282689|    1667|\n",
            "|     12481252|    1655|\n",
            "|      8396536|    1651|\n",
            "|     76478733|    1644|\n",
            "+-------------+--------+\n",
            "only showing top 10 rows\n",
            "\n"
          ]
        }
      ],
      "source": [
        "car_passing_count_without_null = car_passing_count.na.drop('any')\n",
        "car_passing_count_without_null_sort = car_passing_count_without_null.sort('count', ascending=False)\n",
        "car_passing_count_without_null_sort.show(10)"
      ]
    },
    {
      "cell_type": "markdown",
      "metadata": {
        "id": "g5u0Rcek1hUb"
      },
      "source": [
        "#### Now we try to plot the histogram of the most passed car in a relative way and see the result in the below cell. The histogram shows number of cars that total cameras recorded at least a single time."
      ]
    },
    {
      "cell_type": "code",
      "execution_count": null,
      "metadata": {
        "colab": {
          "base_uri": "https://localhost:8080/",
          "height": 400
        },
        "id": "Gwzgj-qRJ9TC",
        "outputId": "e5013eaf-9e38-4e08-b8a5-38354db8ffbb"
      },
      "outputs": [
        {
          "data": {
            "image/png": "[encoded data removed]",
            "text/plain": [
              "<Figure size 2160x720 with 1 Axes>"
            ]
          },
          "metadata": {
            "needs_background": "light"
          },
          "output_type": "display_data"
        }
      ],
      "source": [
        "from matplotlib import pyplot as plt\n",
        "fig = plt.figure(figsize = (30, 10))\n",
        "cars = car_passing_count_without_null_sort.select('FINAL_CAR_KEY').rdd.flatMap(lambda x: x).take(10)\n",
        "names = list(map(lambda x: str(x), range(len(cars))))\n"
      ]
    },
    {
      "cell_type": "markdown",
      "metadata": {
        "id": "sj-CZEX8Vm3X"
      },
      "source": [
        "#### We can have a sense from the count of the cars in this histogram relatively. As we have 4 cars which are recorded too much rather than other cars, we can count them as outliers but as I said it doesn’t have huge effect in the result of the work."
      ]
    },
    {
      "cell_type": "markdown",
      "metadata": {
        "id": "d-aSmGurZ_wH"
      },
      "source": [
        "# Idea 2 (Plotting Histogram by Using Clustering)\n",
        "#### In this part at first we cluster cameras to figure out pattern of passing cars in each streets and roads. Then we plot the histogram of each cluster cameras."
      ]
    },
    {
      "cell_type": "markdown",
      "metadata": {
        "id": "_1eiuLgJtCfE"
      },
      "source": [
        "#### At first we do some pre processing on the data and make vecotrs and data frame for clustering and plotting histograms."
      ]
    },
    {
      "cell_type": "code",
      "execution_count": null,
      "metadata": {
        "colab": {
          "base_uri": "https://localhost:8080/"
        },
        "id": "LdM-Ca8oa645",
        "outputId": "b643d3dc-fa8a-4278-a570-d0e1e4005aff"
      },
      "outputs": [
        {
          "name": "stdout",
          "output_type": "stream",
          "text": [
            "+-----------+---------+---------------+-------------+----------------+----------+-------------------+---+\n",
            "|DEVICE_CODE|SYSTEM_ID|ORIGINE_CAR_KEY|FINAL_CAR_KEY|CHECK_STATUS_KEY|COMPANY_ID|      PASS_DAY_TIME|day|\n",
            "+-----------+---------+---------------+-------------+----------------+----------+-------------------+---+\n",
            "|   22010047|      284|       63455590|     63455590|               6|       161|2021-12-22 00:59:30|356|\n",
            "|   22010054|      284|       63566637|     64111706|               7|       161|2021-12-22 01:24:58|356|\n",
            "|   22010057|      284|       63653636|     63653636|               6|       161|2021-12-22 00:46:37|356|\n",
            "|   22010039|      284|       63562975|     64111706|               7|       161|2021-12-22 00:27:32|356|\n",
            "|   22010053|      284|       63634047|     64111706|               7|       161|2021-12-22 01:29:24|356|\n",
            "|  100701119|      284|       63466030|     64111706|               7|       161|2021-12-22 01:05:33|356|\n",
            "|   22010047|      284|       63479234|     63479234|               6|       161|2021-12-22 00:48:53|356|\n",
            "|   22010078|      284|       63474042|     64111706|               7|       161|2021-12-22 01:31:40|356|\n",
            "|  100701298|      284|       63473689|     63473689|               6|       264|2021-12-22 00:25:50|356|\n",
            "|   22010054|      284|       62996037|     62996037|               6|       161|2021-12-22 00:50:17|356|\n",
            "|   22010054|      284|       63445841|     64111706|               7|       161|2021-12-22 01:24:18|356|\n",
            "|   22010044|      284|       62982992|     62982992|               6|       161|2021-12-22 01:02:03|356|\n",
            "|  100701144|      284|       63604895|     63604895|               6|       264|2021-12-22 00:43:28|356|\n",
            "|   22010053|      284|       62986841|     64111706|               7|       161|2021-12-22 00:50:05|356|\n",
            "|   22010044|      284|       63011708|     63011708|               6|       161|2021-12-22 01:01:51|356|\n",
            "|   22010039|      284|       63318470|     63318470|               6|       161|2021-12-22 00:46:42|356|\n",
            "|   22010048|      284|       63594865|     63594865|               6|       161|2021-12-22 01:02:43|356|\n",
            "|  100701148|      284|       63011923|     64111706|               7|       264|2021-12-22 02:00:29|356|\n",
            "|   22010054|      284|       63326471|     63326471|               6|       161|2021-12-22 00:46:34|356|\n",
            "|   22010047|      284|       63547093|     63547093|               6|       161|2021-12-22 00:56:57|356|\n",
            "|   22010040|      284|       62987564|     64111706|               7|       161|2021-12-22 01:40:29|356|\n",
            "|   22010040|      284|       63548196|     64111706|               7|       161|2021-12-22 01:31:36|356|\n",
            "|  100701119|      284|       63548585|     63548585|               6|       161|2021-12-22 00:36:27|356|\n",
            "|   22010053|      284|       62995625|     64111706|               7|       161|2021-12-22 00:47:24|356|\n",
            "|   22010054|      284|       63495119|     64111706|               7|       161|2021-12-22 01:22:04|356|\n",
            "|   22010078|      284|       63182108|     63182108|               6|       161|2021-12-22 00:59:56|356|\n",
            "|     210110|       82|       63368390|     63368390|               1|       273|2021-12-22 01:30:10|356|\n",
            "|   22010040|      284|       63345797|     63345797|               6|       161|2021-12-22 01:35:35|356|\n",
            "|   22010040|      284|       63493883|     63493883|               6|       161|2021-12-22 00:42:26|356|\n",
            "|   22010043|      284|       63344316|     64111706|               7|       161|2021-12-22 00:44:24|356|\n",
            "|   22010043|      284|       63181203|     63181203|               6|       161|2021-12-22 00:36:47|356|\n",
            "|   22010079|      284|       63348486|     63348486|               6|       161|2021-12-22 01:14:32|356|\n",
            "|   22010053|      284|       63177543|     64111706|               7|       161|2021-12-22 00:32:33|356|\n",
            "|   22010044|      284|       62920129|     64111706|               7|       161|2021-12-22 01:25:06|356|\n",
            "|   22010043|      284|       63348833|     64111706|               7|       161|2021-12-22 01:15:57|356|\n",
            "|   22010054|      284|       63345209|     64111706|               7|       161|2021-12-22 01:27:18|356|\n",
            "|   22010040|      284|       63612153|     63612153|               6|       161|2021-12-22 01:41:03|356|\n",
            "|   22010054|      284|       63069137|     63069137|               6|       161|2021-12-22 00:50:56|356|\n",
            "|   22010039|      284|       63050197|     64111706|               7|       161|2021-12-22 01:03:21|356|\n",
            "|   22010040|      284|       63083177|     63083177|               6|       161|2021-12-22 00:36:06|356|\n",
            "+-----------+---------+---------------+-------------+----------------+----------+-------------------+---+\n",
            "only showing top 40 rows\n",
            "\n"
          ]
        }
      ],
      "source": [
        "from pyspark.sql.functions import dayofyear\n",
        "from pyspark.sql.functions import hour,dayofweek\n",
        "df = df.withColumn('day', dayofyear(df.PASS_DAY_TIME))\n",
        "df = df.filter(df.day != 159)  ### for removing the day number 8 from dataset to have just 1 week in the dataset\n",
        "df.show(40)"
      ]
    },
    {
      "cell_type": "markdown",
      "metadata": {
        "id": "z5PsLsn9tUqW"
      },
      "source": [
        "#### Now we add week and hour to dataframe in this part."
      ]
    },
    {
      "cell_type": "code",
      "execution_count": null,
      "metadata": {
        "colab": {
          "base_uri": "https://localhost:8080/"
        },
        "id": "6kuvgMBcbIWa",
        "outputId": "01d31d2d-0792-467e-c451-e177a1408c65"
      },
      "outputs": [
        {
          "name": "stdout",
          "output_type": "stream",
          "text": [
            "+-----------+-------------+-------+----+\n",
            "|DEVICE_CODE|FINAL_CAR_KEY|weekday|hour|\n",
            "+-----------+-------------+-------+----+\n",
            "|   22010047|     63455590|      4|   0|\n",
            "|   22010054|     64111706|      4|   1|\n",
            "|   22010057|     63653636|      4|   0|\n",
            "|   22010039|     64111706|      4|   0|\n",
            "|   22010053|     64111706|      4|   1|\n",
            "|  100701119|     64111706|      4|   1|\n",
            "|   22010047|     63479234|      4|   0|\n",
            "|   22010078|     64111706|      4|   1|\n",
            "|  100701298|     63473689|      4|   0|\n",
            "|   22010054|     62996037|      4|   0|\n",
            "|   22010054|     64111706|      4|   1|\n",
            "|   22010044|     62982992|      4|   1|\n",
            "|  100701144|     63604895|      4|   0|\n",
            "|   22010053|     64111706|      4|   0|\n",
            "|   22010044|     63011708|      4|   1|\n",
            "|   22010039|     63318470|      4|   0|\n",
            "|   22010048|     63594865|      4|   1|\n",
            "|  100701148|     64111706|      4|   2|\n",
            "|   22010054|     63326471|      4|   0|\n",
            "|   22010047|     63547093|      4|   0|\n",
            "|   22010040|     64111706|      4|   1|\n",
            "|   22010040|     64111706|      4|   1|\n",
            "|  100701119|     63548585|      4|   0|\n",
            "|   22010053|     64111706|      4|   0|\n",
            "|   22010054|     64111706|      4|   1|\n",
            "|   22010078|     63182108|      4|   0|\n",
            "|     210110|     63368390|      4|   1|\n",
            "|   22010040|     63345797|      4|   1|\n",
            "|   22010040|     63493883|      4|   0|\n",
            "|   22010043|     64111706|      4|   0|\n",
            "|   22010043|     63181203|      4|   0|\n",
            "|   22010079|     63348486|      4|   1|\n",
            "|   22010053|     64111706|      4|   0|\n",
            "|   22010044|     64111706|      4|   1|\n",
            "|   22010043|     64111706|      4|   1|\n",
            "|   22010054|     64111706|      4|   1|\n",
            "|   22010040|     63612153|      4|   1|\n",
            "|   22010054|     63069137|      4|   0|\n",
            "|   22010039|     64111706|      4|   1|\n",
            "|   22010040|     63083177|      4|   0|\n",
            "+-----------+-------------+-------+----+\n",
            "only showing top 40 rows\n",
            "\n"
          ]
        }
      ],
      "source": [
        "time_df = df.withColumn('weekday', dayofweek(df.PASS_DAY_TIME))\n",
        "time_df = time_df.withColumn('hour', hour(df.PASS_DAY_TIME))\n",
        "time_df = time_df.select('DEVICE_CODE', 'FINAL_CAR_KEY', 'weekday', 'hour')\n",
        "time_df.show(40)"
      ]
    },
    {
      "cell_type": "markdown",
      "metadata": {
        "id": "iOXBE7vWuA3T"
      },
      "source": [
        "#### Now obtain the day and hour and key of each passing car for each week through a camera by groupBy command. The reuslt is show in below."
      ]
    },
    {
      "cell_type": "code",
      "execution_count": null,
      "metadata": {
        "colab": {
          "base_uri": "https://localhost:8080/"
        },
        "id": "4ROAtS8jbQkz",
        "outputId": "4b6907d2-cbb0-4a4a-e9e1-be78795cab8c"
      },
      "outputs": [
        {
          "name": "stdout",
          "output_type": "stream",
          "text": [
            "+-----------+-------+----+-----+\n",
            "|DEVICE_CODE|weekday|hour|count|\n",
            "+-----------+-------+----+-----+\n",
            "|     635555|      4|   1|    9|\n",
            "|     203902|      4|   1| 1652|\n",
            "|     900123|      4|   1|  326|\n",
            "|        102|      4|   0|  210|\n",
            "|  100700964|      4|   1|   80|\n",
            "|     631887|      4|   0|    9|\n",
            "|     811002|      4|   0|   10|\n",
            "|  100700973|      4|   1|  107|\n",
            "|     204902|      4|   1|  223|\n",
            "|     900159|      4|   3|   29|\n",
            "|     900136|      4|   1|   10|\n",
            "|  100701136|      4|   2|    1|\n",
            "|     631357|      4|   2| 1397|\n",
            "|        163|      4|   4|   74|\n",
            "|     900161|      4|   5|  187|\n",
            "|     207501|      4|   5|  146|\n",
            "|   22009842|      4|   1|    3|\n",
            "|     635612|      4|   1|    4|\n",
            "|   22009832|      4|   2|   18|\n",
            "|     900161|      4|   6| 1819|\n",
            "|     900251|      4|   6|  705|\n",
            "|   22000801|      4|   5|    3|\n",
            "|     810110|      4|   7|   83|\n",
            "|  100700929|      4|   9| 2878|\n",
            "|     204902|      4|   9|  478|\n",
            "|     212002|      4|   8|  404|\n",
            "|     631783|      4|   8|  150|\n",
            "|     900172|      4|   5|    9|\n",
            "|  100701148|      4|   8|  105|\n",
            "|   22009979|      4|   9|   47|\n",
            "|     900142|      4|  10|15362|\n",
            "|     900155|      4|  11|14920|\n",
            "|   22009972|      4|  10| 4459|\n",
            "|     900138|      4|  10| 2867|\n",
            "|     631367|      4|  11| 4856|\n",
            "|     900215|      4|  11| 5963|\n",
            "|  100701297|      4|  10| 1740|\n",
            "|   22010115|      4|  11| 1185|\n",
            "|     631890|      4|  10|    6|\n",
            "|   22009960|      4|   9|    2|\n",
            "+-----------+-------+----+-----+\n",
            "only showing top 40 rows\n",
            "\n"
          ]
        }
      ],
      "source": [
        "cam_day = time_df.groupBy('DEVICE_CODE','weekday','hour').count()\n",
        "cam_day.show(40)"
      ]
    },
    {
      "cell_type": "markdown",
      "metadata": {
        "id": "MZulC_pXuiI3"
      },
      "source": [
        "#### Now we add camera indices to the dataframe for clustering in the next parts."
      ]
    },
    {
      "cell_type": "code",
      "execution_count": null,
      "metadata": {
        "colab": {
          "base_uri": "https://localhost:8080/"
        },
        "id": "Cx4csGq9bU9c",
        "outputId": "b2f914b6-7e35-43a1-af93-10a7f3baaf9c"
      },
      "outputs": [
        {
          "name": "stdout",
          "output_type": "stream",
          "text": [
            "+-----------+-------+----+-----+------------+\n",
            "|DEVICE_CODE|weekday|hour|count|index_camera|\n",
            "+-----------+-------+----+-----+------------+\n",
            "|     635555|      4|   1|    9|       692.0|\n",
            "|     203902|      4|   1| 1652|       147.0|\n",
            "|     900123|      4|   1|  326|       932.0|\n",
            "|        102|      4|   0|  210|        80.0|\n",
            "|  100700964|      4|   1|   80|        38.0|\n",
            "|     631887|      4|   0|    9|       586.0|\n",
            "|     811002|      4|   0|   10|       592.0|\n",
            "|  100700973|      4|   1|  107|        40.0|\n",
            "|     204902|      4|   1|  223|       153.0|\n",
            "|     900159|      4|   3|   29|       359.0|\n",
            "|     900136|      4|   1|   10|       617.0|\n",
            "|  100701136|      4|   2|    1|       727.0|\n",
            "|     631357|      4|   2| 1397|       253.0|\n",
            "|        163|      4|   4|   74|       123.0|\n",
            "|     900161|      4|   5|  187|       360.0|\n",
            "|     207501|      4|   5|  146|       165.0|\n",
            "|   22009842|      4|   1|    3|       783.0|\n",
            "|     635612|      4|   1|    4|       537.0|\n",
            "|   22009832|      4|   2|   18|       186.0|\n",
            "|     900161|      4|   6| 1819|       360.0|\n",
            "|     900251|      4|   6|  705|       424.0|\n",
            "|   22000801|      4|   5|    3|       647.0|\n",
            "|     810110|      4|   7|   83|       325.0|\n",
            "|  100700929|      4|   9| 2878|        32.0|\n",
            "|     204902|      4|   9|  478|       153.0|\n",
            "|     212002|      4|   8|  404|       176.0|\n",
            "|     631783|      4|   8|  150|       292.0|\n",
            "|     900172|      4|   5|    9|       368.0|\n",
            "|  100701148|      4|   8|  105|        64.0|\n",
            "|   22009979|      4|   9|   47|       748.0|\n",
            "|     900142|      4|  10|15362|       348.0|\n",
            "|     900155|      4|  11|14920|       356.0|\n",
            "|   22009972|      4|  10| 4459|       194.0|\n",
            "|     900138|      4|  10| 2867|       345.0|\n",
            "|     631367|      4|  11| 4856|       263.0|\n",
            "|     900215|      4|  11| 5963|       395.0|\n",
            "|  100701297|      4|  10| 1740|        77.0|\n",
            "|   22010115|      4|  11| 1185|       569.0|\n",
            "|     631890|      4|  10|    6|       740.0|\n",
            "|   22009960|      4|   9|    2|       568.0|\n",
            "+-----------+-------+----+-----+------------+\n",
            "only showing top 40 rows\n",
            "\n"
          ]
        }
      ],
      "source": [
        "from pyspark.ml.feature import StringIndexer\n",
        "\n",
        "cam_day_index = StringIndexer(inputCol='DEVICE_CODE', outputCol='index_camera').fit(camera_daily_df).transform(camera_daily_df)\n",
        "cam_day_index.show(40)"
      ]
    },
    {
      "cell_type": "markdown",
      "metadata": {
        "id": "sqSWT3XevDJ7"
      },
      "source": [
        "#### Now in this part, we define some functions for obtaining features and converting dataframe columns to vectors. The functions are defined in below and the results are shown after them."
      ]
    },
    {
      "cell_type": "code",
      "execution_count": null,
      "metadata": {
        "id": "Jy_aiHbCm6Lw"
      },
      "outputs": [],
      "source": [
        "from pyspark.mllib.linalg import Vectors\n",
        "def transData(data):\n",
        "    return data.rdd.map(lambda r: [Vectors.dense(r[:-1])]).toDF(['features'])\n",
        "\n",
        "def generate_vector(input):\n",
        "    cam = input[0]\n",
        "    day = input[1]\n",
        "    vec = 168*[0]\n",
        "\n",
        "    for y in day:\n",
        "        index = y[0]\n",
        "        count = y[1]\n",
        "        vec[index] = count\n",
        "    return (cam, vec)\n"
      ]
    },
    {
      "cell_type": "code",
      "execution_count": null,
      "metadata": {
        "colab": {
          "base_uri": "https://localhost:8080/"
        },
        "id": "N_z6VEqrwb1h",
        "outputId": "47f28122-0446-4fab-96e6-c153fa5f4ada"
      },
      "outputs": [
        {
          "name": "stdout",
          "output_type": "stream",
          "text": [
            "+------------------------------+\n",
            "|features                      |\n",
            "+------------------------------+\n",
            "|[2.2010047E7,6.345559E7,4.0]  |\n",
            "|[2.2010054E7,6.4111706E7,4.0] |\n",
            "|[2.2010057E7,6.3653636E7,4.0] |\n",
            "|[2.2010039E7,6.4111706E7,4.0] |\n",
            "|[2.2010053E7,6.4111706E7,4.0] |\n",
            "|[1.00701119E8,6.4111706E7,4.0]|\n",
            "|[2.2010047E7,6.3479234E7,4.0] |\n",
            "|[2.2010078E7,6.4111706E7,4.0] |\n",
            "|[1.00701298E8,6.3473689E7,4.0]|\n",
            "|[2.2010054E7,6.2996037E7,4.0] |\n",
            "|[2.2010054E7,6.4111706E7,4.0] |\n",
            "|[2.2010044E7,6.2982992E7,4.0] |\n",
            "|[1.00701144E8,6.3604895E7,4.0]|\n",
            "|[2.2010053E7,6.4111706E7,4.0] |\n",
            "|[2.2010044E7,6.3011708E7,4.0] |\n",
            "|[2.2010039E7,6.331847E7,4.0]  |\n",
            "|[2.2010048E7,6.3594865E7,4.0] |\n",
            "|[1.00701148E8,6.4111706E7,4.0]|\n",
            "|[2.2010054E7,6.3326471E7,4.0] |\n",
            "|[2.2010047E7,6.3547093E7,4.0] |\n",
            "|[2.201004E7,6.4111706E7,4.0]  |\n",
            "|[2.201004E7,6.4111706E7,4.0]  |\n",
            "|[1.00701119E8,6.3548585E7,4.0]|\n",
            "|[2.2010053E7,6.4111706E7,4.0] |\n",
            "|[2.2010054E7,6.4111706E7,4.0] |\n",
            "|[2.2010078E7,6.3182108E7,4.0] |\n",
            "|[210110.0,6.336839E7,4.0]     |\n",
            "|[2.201004E7,6.3345797E7,4.0]  |\n",
            "|[2.201004E7,6.3493883E7,4.0]  |\n",
            "|[2.2010043E7,6.4111706E7,4.0] |\n",
            "|[2.2010043E7,6.3181203E7,4.0] |\n",
            "|[2.2010079E7,6.3348486E7,4.0] |\n",
            "|[2.2010053E7,6.4111706E7,4.0] |\n",
            "|[2.2010044E7,6.4111706E7,4.0] |\n",
            "|[2.2010043E7,6.4111706E7,4.0] |\n",
            "|[2.2010054E7,6.4111706E7,4.0] |\n",
            "|[2.201004E7,6.3612153E7,4.0]  |\n",
            "|[2.2010054E7,6.3069137E7,4.0] |\n",
            "|[2.2010039E7,6.4111706E7,4.0] |\n",
            "|[2.201004E7,6.3083177E7,4.0]  |\n",
            "+------------------------------+\n",
            "only showing top 40 rows\n",
            "\n"
          ]
        }
      ],
      "source": [
        "transformed= transData(time_df)\n",
        "transformed.show(40, False)"
      ]
    },
    {
      "cell_type": "markdown",
      "metadata": {
        "id": "Gus8G5JSwrBQ"
      },
      "source": [
        "#### Now in this part we implement a LDA clustering to cluster different cameras and then plot histograms of record of passing cars through each cameras. "
      ]
    },
    {
      "cell_type": "code",
      "execution_count": null,
      "metadata": {
        "id": "sSlFBHNsrGsR"
      },
      "outputs": [],
      "source": [
        "from pyspark.mllib.clustering import LDA\n",
        "from pyspark.mllib.linalg import Vectors\n",
        "cam_vec = cam_day.rdd.map(lambda x: (x['DEVICE_CODE'], ((x['weekday']-1)*24 + x['hour'],x['count']))).groupByKey().mapValues(list).map(generate_vector)\n",
        "lda_model = LDA.train(cam_vec.map(lambda x: [x[0], Vectors.dense(x[1])]), k = 6)\n",
        "clusters = lda_model.topicsMatrix()"
      ]
    },
    {
      "cell_type": "markdown",
      "metadata": {
        "id": "ZziDIpsVyS-C"
      },
      "source": [
        "#### Now in this part we plot histogram of each cameras in different days of week. We differ each camera of the streets with different colors which specify each camera.\n",
        "#### We fix number of cluster centers equal to 6 cluster and deploy the clustering on each camera.\n",
        "#### Our clustering shows different types of streets in the city. In the other words, we plot number of passing cars to recognize how much each street get crowded and analyze number of cars in each street in specific hours.\n",
        "#### With this approach, we can have a sense of number of passing cars from near cameras, because we deployed a clustering on cameras so if center of a clustering has a specific histogram, we can conclude that the pattern and histogram of near cameras so we can say that near cameras to each clustering centers, has approximately a same histogram.\n"
      ]
    },
    {
      "cell_type": "code",
      "execution_count": null,
      "metadata": {
        "colab": {
          "base_uri": "https://localhost:8080/",
          "height": 1000
        },
        "id": "NlpnPvXXrPwu",
        "outputId": "47a78111-d681-455d-9767-4e9d23aed4ae"
      },
      "outputs": [
        {
          "data": {
            "image/png": "[encoded data removed]",
            "text/plain": [
              "<Figure size 1440x360 with 1 Axes>"
            ]
          },
          "metadata": {
            "needs_background": "light"
          },
          "output_type": "display_data"
        },
        {
          "data": {
            "image/png": "[encoded data removed]",
            "text/plain": [
              "<Figure size 1440x360 with 1 Axes>"
            ]
          },
          "metadata": {
            "needs_background": "light"
          },
          "output_type": "display_data"
        },
        {
          "data": {
            "image/png": "[encoded data removed]",
            "text/plain": [
              "<Figure size 1440x360 with 1 Axes>"
            ]
          },
          "metadata": {
            "needs_background": "light"
          },
          "output_type": "display_data"
        },
        {
          "data": {
            "image/png": "[encoded data removed]",
            "text/plain": [
              "<Figure size 1440x360 with 1 Axes>"
            ]
          },
          "metadata": {
            "needs_background": "light"
          },
          "output_type": "display_data"
        },
        {
          "data": {
            "image/png": "[encoded data removed]",
            "text/plain": [
              "<Figure size 1440x360 with 1 Axes>"
            ]
          },
          "metadata": {
            "needs_background": "light"
          },
          "output_type": "display_data"
        },
        {
          "data": {
            "image/png": "[encoded data removed]",
            "text/plain": [
              "<Figure size 1440x360 with 1 Axes>"
            ]
          },
          "metadata": {
            "needs_background": "light"
          },
          "output_type": "display_data"
        }
      ],
      "source": [
        "import matplotlib.pyplot as plt\n",
        "\n",
        "fig = plt.figure(figsize = (20,5))\n",
        "labels = list(map(lambda x: str(x), range(168)))\n",
        "plt.bar(labels, clusters[:,0], color ='red', width = 0.5)\n",
        "plt.xticks(rotation='vertical', fontsize=7)\n",
        "plt.show()\n",
        "\n",
        "fig = plt.figure(figsize = (20,5))\n",
        "labels = list(map(lambda x: str(x), range(168)))\n",
        "plt.bar(labels, clusters[:,1], color ='blue', width = 0.5)\n",
        "plt.xticks(rotation='vertical', fontsize=7)\n",
        "plt.show()\n",
        "\n",
        "fig = plt.figure(figsize = (20,5))\n",
        "labels = list(map(lambda x: str(x), range(168)))\n",
        "plt.bar(labels, clusters[:,2], color ='black', width = 0.5)\n",
        "plt.xticks(rotation='vertical', fontsize=7)\n",
        "plt.show()\n",
        "\n",
        "fig = plt.figure(figsize = (20,5))\n",
        "labels = list(map(lambda x: str(x), range(168)))\n",
        "plt.bar(labels, clusters[:,3], color ='green', width = 0.5)\n",
        "plt.xticks(rotation='vertical', fontsize=7)\n",
        "plt.show()\n",
        "\n",
        "fig = plt.figure(figsize = (20,5))\n",
        "labels = list(map(lambda x: str(x), range(168)))\n",
        "plt.bar(labels, clusters[:,4], color ='yellow', width = 0.5)\n",
        "plt.xticks(rotation='vertical', fontsize=7)\n",
        "plt.show()\n",
        "\n",
        "fig = plt.figure(figsize = (20,5))\n",
        "labels = list(map(lambda x: str(x), range(168)))\n",
        "plt.bar(labels, clusters[:,5], color ='purple', width = 0.5)\n",
        "plt.xticks(rotation='vertical', fontsize=7)\n",
        "plt.show()\n"
      ]
    },
    {
      "cell_type": "markdown",
      "metadata": {
        "id": "1cK_Aq-zWFmK"
      },
      "source": [
        "#### These 6 clusters, shows pattern of passing cars through a specific camera in each day of week. Actually we differ the pattern of recording cameras to these 6 group. It means that these 6 groups representing pattern of recording all of the cameras in the city and any camera in the city belongs to one of these clusters. With analyzing these clusters, we can predict type of each street. It means that we can predict whether a street has entertaining environment of mostly crowded in normal day by pattern of recording of each camera.\n",
        "#### In the cluster center 1 cameras, at the start of the streets are not crowded but suddenly, it gets too crowded fast. We can conclude that this street maybe is one of the main streets of the city which at 05:00 AM and 06:00 AM starts to get crowded. It means many people cross these streets for going to work or university or school etc.\n",
        "#### In the cluster center 2 cameras, the different of passing cars in start of the day and the middle of the day is low in count. It shows that streets which has these kinds of cameras, are not such important streets. Also the amount of passing cars is lower than other ones.\n",
        "#### In the cluster center 3 cameras, the different of passing cars in start of the day and the middle of the day is low even lower than cluster center 2 but in 5th and 6th day of the week, the amount of passing cars get increased. It shows that these streets are entertaining streets that in the last days of the week they get crowded and people cross these streets for chilling out.\n",
        "#### In the cluster center 4 cameras, the pattern is like cluster center 2 but it seems that these streets are a little bit more important that those ones and intercept with some more important streets or highways.\n",
        "#### In the cluster center 5 cameras, the crossing cars are too much in both starting of day and starting of night or evening. It seems that these streets are highways from Tehran to Karaj or something like that because people come to Tehran at start of each day and come back to Karaj in evening so streets get crowded in these streets in these hours in days.\n",
        "#### In the cluster center 6 cameras, as it seems, Friday is not crowded that much and the number of cars passing through these streets is too low. Also as other streets, the middle days of the week, streets are more crowded than other days. These streets are probably, streets which contain main offices of the city which are reclusion.\n"
      ]
    },
    {
      "cell_type": "markdown",
      "metadata": {
        "id": "7hZ1W_cqPkaR"
      },
      "source": [
        "# Idea 3 (Item-Basckets and Frequent-Items)\n",
        "#### In this part we try to find the most frequent itemsets as what we did in the homeworks in this term. We use A-priori algorithm in this part and try to find the most frequent Itemsets."
      ]
    },
    {
      "cell_type": "markdown",
      "metadata": {
        "id": "HJl8WusEZzoA"
      },
      "source": [
        "#### We map the data with key of ('Final_CAR_KEY','PASS_DAY_TIME') and value of ('DEVICE_CODE') which shows the pathway of the cars. Now we have a RDD which has rows that each row contains pathway of each date with license plate of each passed car."
      ]
    },
    {
      "cell_type": "code",
      "execution_count": null,
      "metadata": {
        "colab": {
          "base_uri": "https://localhost:8080/"
        },
        "id": "WXvq-3qXZZQv",
        "outputId": "7b53ca8f-9b9e-4665-de77-c95191077449"
      },
      "outputs": [
        {
          "data": {
            "text/plain": [
              "[((63455590, datetime.date(2021, 12, 22)), 22010047),\n",
              " ((64111706, datetime.date(2021, 12, 22)), 22010054),\n",
              " ((63653636, datetime.date(2021, 12, 22)), 22010057),\n",
              " ((64111706, datetime.date(2021, 12, 22)), 22010039),\n",
              " ((64111706, datetime.date(2021, 12, 22)), 22010053)]"
            ]
          },
          "execution_count": 30,
          "metadata": {},
          "output_type": "execute_result"
        }
      ],
      "source": [
        "rdd = df.rdd.map(lambda x: ((x['FINAL_CAR_KEY'], x['PASS_DAY_TIME'].date()),  x['DEVICE_CODE']))\n",
        "rdd.take(5)"
      ]
    },
    {
      "cell_type": "markdown",
      "metadata": {
        "id": "TDf9a440Z5mq"
      },
      "source": [
        "#### Now we group_by the above RDD by its key for each car in every date to have all pathway that each car passed in a list. Notice that in this part we use set instead of list to not having repeated pathways. This approach base on the usage of this part does not have huge effect on the whole of the problem."
      ]
    },
    {
      "cell_type": "code",
      "execution_count": null,
      "metadata": {
        "colab": {
          "base_uri": "https://localhost:8080/"
        },
        "id": "vpSdJf59Z--Q",
        "outputId": "d848c782-d820-476d-9c09-2b889921283f"
      },
      "outputs": [
        {
          "data": {
            "text/plain": [
              "[((63326471, datetime.date(2021, 12, 22)), {22010054}),\n",
              " ((34863966, datetime.date(2021, 12, 22)), {22010039, 22010040}),\n",
              " ((37069385, datetime.date(2021, 12, 22)), {22010053}),\n",
              " ((63250610, datetime.date(2021, 12, 22)), {22010053}),\n",
              " ((36067843, datetime.date(2021, 12, 22)), {900256, 22010039})]"
            ]
          },
          "execution_count": 31,
          "metadata": {},
          "output_type": "execute_result"
        }
      ],
      "source": [
        "rdd_group = rdd.groupByKey().mapValues(set)\n",
        "rdd_group.take(5)"
      ]
    },
    {
      "cell_type": "markdown",
      "metadata": {
        "id": "LF7yM74JavDB"
      },
      "source": [
        "#### For having baskets, we don't need to keep license plates, so we get baskets without them."
      ]
    },
    {
      "cell_type": "code",
      "execution_count": null,
      "metadata": {
        "colab": {
          "base_uri": "https://localhost:8080/"
        },
        "id": "7Z8RMgKjbIte",
        "outputId": "786efd67-fa37-4abf-b05e-71cbb54ee129"
      },
      "outputs": [
        {
          "data": {
            "text/plain": [
              "[{22010054}, {22010039, 22010040}]"
            ]
          },
          "execution_count": 35,
          "metadata": {},
          "output_type": "execute_result"
        }
      ],
      "source": [
        "import numpy as np\n",
        "\n",
        "baskets_rdd = rdd_group.map(lambda x: x[1])\n",
        "baskets_rdd.take(2)"
      ]
    },
    {
      "cell_type": "markdown",
      "metadata": {
        "id": "X6F0B3v5bLNF"
      },
      "source": [
        "#### In the next two cells, we count the number of baskets and then with using threshold, we get minimum support."
      ]
    },
    {
      "cell_type": "code",
      "execution_count": null,
      "metadata": {
        "colab": {
          "base_uri": "https://localhost:8080/"
        },
        "id": "j4Ri4_h4bPol",
        "outputId": "6a645445-f267-4447-d98e-b646dd749dd2"
      },
      "outputs": [
        {
          "data": {
            "text/plain": [
              "45376902"
            ]
          },
          "execution_count": 36,
          "metadata": {},
          "output_type": "execute_result"
        }
      ],
      "source": [
        "BASKETS_COUNT = baskets_rdd.count()\n",
        "BASKETS_COUNT"
      ]
    },
    {
      "cell_type": "code",
      "execution_count": null,
      "metadata": {
        "colab": {
          "base_uri": "https://localhost:8080/"
        },
        "id": "zbI4kt6JmvNi",
        "outputId": "03ec0f95-154b-48de-9252-cf7a06d9b97c"
      },
      "outputs": [
        {
          "data": {
            "text/plain": [
              "45376"
            ]
          },
          "execution_count": 39,
          "metadata": {},
          "output_type": "execute_result"
        }
      ],
      "source": [
        "THRESHOLD = 0.001\n",
        "MIN_COUNT = int(THRESHOLD * BASKETS_COUNT)\n",
        "MIN_COUNT"
      ]
    },
    {
      "cell_type": "code",
      "execution_count": null,
      "metadata": {
        "colab": {
          "base_uri": "https://localhost:8080/"
        },
        "id": "aRnmNZSzbdiB",
        "outputId": "410d2521-15aa-4a80-e5fd-7c608affc27e"
      },
      "outputs": [
        {
          "data": {
            "text/plain": [
              "[((22010079,), 347827),\n",
              " ((100701296,), 75798),\n",
              " ((900194,), 144479),\n",
              " ((100700871,), 336813),\n",
              " ((631833,), 121474)]"
            ]
          },
          "execution_count": 40,
          "metadata": {},
          "output_type": "execute_result"
        }
      ],
      "source": [
        "frequent_items_rdd = baskets_rdd.flatMap(lambda basket: [((item,),1) for item in basket]).reduceByKey(lambda x,y: x+y).filter(lambda x: x[1] > MIN_COUNT)\n",
        "frequent_items_rdd.take(5)"
      ]
    },
    {
      "cell_type": "markdown",
      "metadata": {
        "id": "TtBDJ1_KbfuT"
      },
      "source": [
        "#### This cell count most frequent items number.\n"
      ]
    },
    {
      "cell_type": "code",
      "execution_count": null,
      "metadata": {
        "colab": {
          "base_uri": "https://localhost:8080/"
        },
        "id": "azuOALagbjPD",
        "outputId": "386d17f6-af71-43ad-c43c-38c85aae179d"
      },
      "outputs": [
        {
          "data": {
            "text/plain": [
              "341"
            ]
          },
          "execution_count": 41,
          "metadata": {},
          "output_type": "execute_result"
        }
      ],
      "source": [
        "FREQUENT_ITEMS_COUNT = frequent_items_rdd.count()\n",
        "FREQUENT_ITEMS_COUNT"
      ]
    },
    {
      "cell_type": "markdown",
      "metadata": {
        "id": "Ghpbg9etblWp"
      },
      "source": [
        "### A-Priori Function\n",
        "The next following cells are written for A-Priori function. At first some other functions are written and I explain them in the following and cells and then I write the original function for A-Priori function."
      ]
    },
    {
      "cell_type": "markdown",
      "metadata": {
        "id": "iulfIWWhbqza"
      },
      "source": [
        "#### generate_combinations\n",
        "This function gets frequent itemsets of its previous step and generates candidate of the next step. At first it gets the frequent remaining items from whole of the frequent itemssets and then sort them. Then for each of frequent itemset, it gets the largest element and then compare tp remaining items of the collection and if that item be larger than that one, it adds it to the end of that collection and generates a new candidate. In this function it does'nt need to add smaller elements to the collections.\n",
        "\n",
        "For example, suppose [b,c,d] collection which was frequent in the previous step and the remaining collection of frequent is [a,b,c,d,z] (these elements are sorted). From these remaining elements, z is the only element which is larger than other elements so a new candidate is [b,c,d,z]. But [a,b,c,d] is not a candidate. Assume that it is frequent. We know that all subsets of a frequent set is also frequent. Now if [a,b,c] was frequent, so it would be available in the frequent list and create its combination in checking [a,b,c] but if it isn't frequent, so [a,b,c,d] wouldn't be frequent and was not created correctly."
      ]
    },
    {
      "cell_type": "markdown",
      "metadata": {
        "id": "2x0rjdVRbwe0"
      },
      "source": [
        "#### get_new_frequents\n",
        "This function gets all the baskets as input and gets the most frequents itemsets of the next step. In this function we get help from a new function which is defined as \"count_freq\" which gets a basket as input and for each candidate of that step, if that candidate exists on that basket, it creates an output as (candidate,1). Finally with counting all candidates, we can get most frequent itemsets."
      ]
    },
    {
      "cell_type": "code",
      "execution_count": null,
      "metadata": {
        "colab": {
          "base_uri": "https://localhost:8080/"
        },
        "id": "79FZkMt320qH",
        "outputId": "ae30799a-571a-42cd-9989-413f9f817fd6"
      },
      "outputs": [
        {
          "name": "stdout",
          "output_type": "stream",
          "text": [
            "-----------------loop start----------------------\n",
            "Itemsets of size  2 , count:  732\n",
            "sample: \n",
            "[((208602, 22010060), 1), ((631633, 900269), 1), ((631357, 631633), 1), ((631357, 900269), 1), ((119, 900171), 1), ((22010117, 100700845), 1), ((900233, 22010117), 1), ((900233, 100700845), 1), ((900149, 900233), 1), ((900149, 22010117), 1)]\n",
            "-----------------loop start----------------------\n"
          ]
        },
        {
          "name": "stderr",
          "output_type": "stream",
          "text": []
        },
        {
          "name": "stdout",
          "output_type": "stream",
          "text": [
            "Itemsets of size  3 , count:  1772\n",
            "sample: \n",
            "[((900171, 900233, 22010117), 1), ((900171, 900233, 100700845), 1), ((900171, 22010117, 100700845), 1), ((119, 900149, 900233), 1), ((119, 900149, 22010117), 1), ((119, 900149, 100700845), 1), ((119, 900233, 22010117), 1), ((119, 900233, 100700845), 1), ((119, 22010117, 100700845), 1), ((900124, 900160, 900233), 1)]\n",
            "-----------------loop start----------------------\n"
          ]
        },
        {
          "name": "stderr",
          "output_type": "stream",
          "text": []
        },
        {
          "name": "stdout",
          "output_type": "stream",
          "text": [
            "Itemsets of size  4 , count:  3518\n",
            "sample: \n",
            "[((119, 900171, 900233, 22010117), 1), ((119, 900171, 900233, 100700845), 1), ((119, 900171, 22010117, 100700845), 1), ((900149, 900233, 22010117, 100700845), 1), ((119, 900124, 900160, 900233), 1), ((119, 900124, 900160, 22010117), 1), ((119, 900124, 900160, 100700845), 1), ((900124, 900149, 900160, 900233), 1), ((900124, 900149, 900160, 22010117), 1), ((900124, 900149, 900160, 100700845), 1)]\n",
            "-----------------loop start----------------------\n"
          ]
        },
        {
          "name": "stderr",
          "output_type": "stream",
          "text": []
        },
        {
          "name": "stdout",
          "output_type": "stream",
          "text": [
            "Itemsets of size  5 , count:  5823\n",
            "sample: \n",
            "[((119, 900149, 900233, 22010117, 100700845), 1), ((900124, 900160, 900233, 22010117, 100700845), 1), ((900149, 900171, 900233, 22010117, 100700845), 1), ((119, 900124, 900149, 900160, 900233), 1), ((119, 900124, 900149, 900160, 22010117), 1), ((119, 900124, 900149, 900160, 100700845), 1), ((119, 900124, 900160, 900171, 900233), 1), ((119, 900124, 900160, 900171, 22010117), 1), ((119, 900124, 900160, 900171, 100700845), 1), ((900124, 900149, 900160, 900171, 900233), 1)]\n",
            "-----------------loop start----------------------\n"
          ]
        },
        {
          "name": "stderr",
          "output_type": "stream",
          "text": []
        },
        {
          "name": "stdout",
          "output_type": "stream",
          "text": [
            "Itemsets of size  6 , count:  7960\n",
            "sample: \n",
            "[((119, 900124, 900160, 900233, 22010117, 100700845), 1), ((900124, 900149, 900160, 900233, 22010117, 100700845), 1), ((119, 900149, 900171, 900233, 22010117, 100700845), 1), ((900124, 900160, 900171, 900233, 22010117, 100700845), 1), ((119, 900124, 900149, 900160, 900171, 900233), 1), ((119, 900124, 900149, 900160, 900171, 22010117), 1), ((119, 900124, 900149, 900160, 900171, 100700845), 1), ((114, 900101, 900236, 900237, 22010039, 100700841), 1), ((900142, 900152, 900212, 900222, 900244, 100700866), 1), ((631795, 801710, 900124, 900207, 900243, 22010083), 1)]\n",
            "-----------------loop start----------------------\n"
          ]
        },
        {
          "name": "stderr",
          "output_type": "stream",
          "text": []
        },
        {
          "name": "stdout",
          "output_type": "stream",
          "text": [
            "Itemsets of size  7 , count:  8889\n",
            "sample: \n",
            "[((119, 900124, 900149, 900160, 900233, 22010117, 100700845), 1), ((119, 900124, 900160, 900171, 900233, 22010117, 100700845), 1), ((900124, 900149, 900160, 900171, 900233, 22010117, 100700845), 1), ((144, 230103, 631795, 801710, 900207, 900243, 22010083), 1), ((144, 230103, 631795, 900102, 900207, 900243, 22010083), 1), ((230103, 631795, 801710, 900124, 900207, 900243, 22010083), 1), ((230103, 631795, 900102, 900124, 900207, 900243, 22010083), 1), ((144, 801710, 900102, 900124, 900207, 900243, 22010083), 1), ((144, 230103, 801710, 900102, 900218, 900243, 22010083), 1), ((144, 631795, 801710, 900102, 900218, 900243, 22010083), 1)]\n",
            "-----------------loop start----------------------\n"
          ]
        },
        {
          "name": "stderr",
          "output_type": "stream",
          "text": []
        },
        {
          "name": "stdout",
          "output_type": "stream",
          "text": [
            "Itemsets of size  8 , count:  8032\n",
            "sample: \n",
            "[((119, 900124, 900149, 900160, 900171, 900233, 22010117, 100700845), 1), ((144, 230103, 631795, 801710, 900124, 900218, 900243, 22010083), 1), ((144, 230103, 631795, 900102, 900124, 900218, 900243, 22010083), 1), ((631795, 801710, 900102, 900124, 900207, 900218, 900243, 22010083), 1), ((230103, 801710, 900102, 900124, 900207, 900218, 900243, 22010083), 1), ((144, 230103, 801710, 900124, 900207, 900218, 900243, 22010083), 1), ((144, 230103, 900102, 900124, 900207, 900218, 900243, 22010083), 1), ((144, 631795, 801710, 900124, 900207, 900218, 900243, 22010083), 1), ((144, 631795, 900102, 900124, 900207, 900218, 900243, 22010083), 1), ((144, 230103, 631795, 801710, 900102, 900124, 900207, 900243), 1)]\n",
            "-----------------loop start----------------------\n"
          ]
        },
        {
          "name": "stderr",
          "output_type": "stream",
          "text": []
        },
        {
          "name": "stdout",
          "output_type": "stream",
          "text": [
            "Itemsets of size  9 , count:  5806\n",
            "sample: \n",
            "[((144, 230103, 631795, 801710, 900102, 900124, 900207, 900243, 22010083), 1), ((144, 230103, 631795, 801710, 900102, 900207, 900218, 900243, 22010083), 1), ((230103, 631795, 801710, 900102, 900124, 900207, 900218, 900243, 22010083), 1), ((144, 230103, 801710, 900102, 900124, 900218, 900244, 900277, 22010083), 1), ((144, 631795, 801710, 900102, 900124, 900218, 900244, 900277, 22010083), 1), ((144, 230103, 631795, 900124, 900207, 900218, 900244, 900277, 22010083), 1), ((230103, 631795, 801710, 900102, 900207, 900218, 900244, 900277, 22010083), 1), ((631795, 801710, 900124, 900207, 900218, 900243, 900244, 900277, 22010083), 1), ((631795, 900102, 900124, 900207, 900218, 900243, 900244, 900277, 22010083), 1), ((230103, 801710, 900124, 900207, 900218, 900243, 900244, 900277, 22010083), 1)]\n",
            "-----------------loop start----------------------\n"
          ]
        },
        {
          "name": "stderr",
          "output_type": "stream",
          "text": []
        },
        {
          "name": "stdout",
          "output_type": "stream",
          "text": [
            "Itemsets of size  10 , count:  3303\n",
            "sample: \n",
            "[((144, 230103, 801710, 900102, 900124, 900207, 900218, 900244, 900277, 22010083), 1), ((144, 631795, 801710, 900102, 900124, 900207, 900218, 900244, 900277, 22010083), 1), ((144, 230103, 631795, 801710, 900207, 900218, 900243, 900244, 900277, 22010083), 1), ((144, 230103, 631795, 900102, 900207, 900218, 900243, 900244, 900277, 22010083), 1), ((230103, 631795, 801710, 900124, 900207, 900218, 900243, 900244, 900277, 22010083), 1), ((230103, 631795, 900102, 900124, 900207, 900218, 900243, 900244, 900277, 22010083), 1), ((144, 801710, 900102, 900124, 900207, 900218, 900243, 900244, 900277, 22010083), 1), ((144, 230103, 631795, 801710, 900124, 900207, 900243, 900244, 900277, 22010083), 1), ((144, 230103, 631795, 900102, 900124, 900207, 900243, 900244, 900277, 22010083), 1), ((144, 230103, 631795, 801710, 900124, 900207, 900218, 900243, 900277, 22010083), 1)]\n",
            "-----------------loop start----------------------\n"
          ]
        },
        {
          "name": "stderr",
          "output_type": "stream",
          "text": []
        },
        {
          "name": "stdout",
          "output_type": "stream",
          "text": [
            "Itemsets of size  11 , count:  1444\n",
            "sample: \n",
            "[((144, 230103, 631795, 801710, 900102, 900124, 900218, 900243, 900244, 900277, 22010083), 1), ((144, 230103, 631795, 801710, 900102, 900124, 900207, 900243, 900244, 900277, 100701266), 1), ((144, 230103, 631795, 801710, 900102, 900207, 900218, 900243, 900244, 900277, 100701266), 1), ((230103, 631795, 801710, 900102, 900124, 900207, 900218, 900243, 900244, 900277, 100701266), 1), ((144, 230103, 631795, 801710, 900102, 900124, 900207, 900218, 900243, 900277, 100701266), 1), ((144, 230103, 631795, 801710, 900124, 900207, 900218, 900243, 900244, 22010083, 100701266), 1), ((144, 230103, 631795, 900102, 900124, 900207, 900218, 900243, 900244, 22010083, 100701266), 1), ((144, 230103, 631795, 801710, 900102, 900124, 900207, 900218, 900277, 22010083, 100701266), 1), ((144, 230103, 801710, 900102, 900124, 900207, 900218, 900243, 900277, 22010083, 100701266), 1), ((144, 631795, 801710, 900102, 900124, 900207, 900218, 900243, 900277, 22010083, 100701266), 1)]\n",
            "-----------------loop start----------------------\n"
          ]
        },
        {
          "name": "stderr",
          "output_type": "stream",
          "text": []
        },
        {
          "name": "stdout",
          "output_type": "stream",
          "text": [
            "Itemsets of size  12 , count:  468\n",
            "sample: \n",
            "[((144, 230103, 631795, 801710, 900102, 900124, 900207, 900218, 900243, 900244, 900277, 22010083), 1), ((144, 230103, 631795, 801710, 900124, 900207, 900218, 900243, 900244, 900277, 22010083, 100701266), 1), ((144, 230103, 631795, 900102, 900124, 900207, 900218, 900243, 900244, 900277, 22010083, 100701266), 1), ((230101, 631356, 631831, 900101, 900104, 900152, 900212, 900213, 900217, 900236, 900258, 100700835), 1), ((230101, 631356, 631831, 900101, 900104, 900152, 900212, 900213, 900217, 900244, 900258, 100700835), 1), ((230101, 631356, 631831, 900101, 900104, 900142, 900152, 900212, 900236, 900244, 900258, 100700835), 1), ((230101, 631356, 631831, 900104, 900142, 900152, 900212, 900213, 900236, 900244, 900258, 100700835), 1), ((230101, 631356, 631831, 900104, 900142, 900152, 900212, 900217, 900236, 900244, 900258, 100700835), 1), ((230101, 631831, 900101, 900104, 900152, 900212, 900213, 900217, 900236, 900244, 900258, 100700835), 1), ((230101, 631356, 631831, 900101, 900104, 900152, 900213, 900217, 900236, 900244, 900258, 100700835), 1)]\n",
            "-----------------loop start----------------------\n",
            "Itemsets of size  13 , count:  106\n",
            "sample: \n",
            "[((230101, 631356, 631831, 900101, 900104, 900142, 900152, 900212, 900213, 900236, 900244, 900258, 100700835), 1), ((230101, 631356, 631831, 900101, 900104, 900142, 900152, 900212, 900217, 900236, 900244, 900258, 100700835), 1), ((230101, 631356, 631831, 900104, 900142, 900152, 900212, 900213, 900217, 900236, 900244, 900258, 100700835), 1), ((230101, 900101, 900104, 900142, 900152, 900212, 900213, 900217, 900236, 900244, 900258, 900276, 100700835), 1), ((230101, 631356, 631831, 900142, 900152, 900212, 900213, 900217, 900236, 900244, 900258, 900276, 100700835), 1), ((631356, 631831, 900101, 900104, 900152, 900212, 900213, 900217, 900236, 900244, 900258, 900276, 100700835), 1), ((230101, 631356, 900101, 900104, 900152, 900212, 900213, 900217, 900236, 900244, 900258, 900276, 100700835), 1), ((230101, 631356, 631831, 900104, 900142, 900152, 900213, 900217, 900236, 900244, 900258, 900276, 100700835), 1), ((230101, 631356, 631831, 900104, 900142, 900212, 900213, 900217, 900236, 900244, 900258, 900276, 100700835), 1), ((230101, 631356, 631831, 900101, 900104, 900152, 900212, 900213, 900236, 900244, 900258, 900276, 100700835), 1)]\n",
            "-----------------loop start----------------------\n",
            "Itemsets of size  14 , count:  15\n",
            "sample: \n",
            "[((230101, 631356, 631831, 900101, 900104, 900142, 900152, 900212, 900213, 900217, 900236, 900244, 900258, 100700835), 1), ((230101, 631831, 900101, 900104, 900142, 900152, 900212, 900213, 900217, 900236, 900244, 900258, 900276, 100700835), 1), ((230101, 631356, 631831, 900101, 900142, 900152, 900212, 900213, 900217, 900236, 900244, 900258, 900276, 100700835), 1), ((230101, 631356, 631831, 900101, 900104, 900142, 900152, 900213, 900217, 900236, 900244, 900258, 900276, 100700835), 1), ((230101, 631356, 631831, 900101, 900104, 900142, 900212, 900213, 900217, 900236, 900244, 900258, 900276, 100700835), 1), ((230101, 631356, 631831, 900101, 900104, 900142, 900152, 900212, 900213, 900217, 900236, 900258, 900276, 100700835), 1), ((230101, 631356, 631831, 900101, 900104, 900142, 900152, 900212, 900213, 900217, 900244, 900258, 900276, 100700835), 1), ((230101, 631356, 631831, 900101, 900104, 900142, 900152, 900212, 900213, 900217, 900236, 900244, 900258, 900276), 1), ((631356, 631831, 900101, 900104, 900142, 900152, 900212, 900213, 900217, 900236, 900244, 900258, 900276, 100700835), 1), ((230101, 631356, 900101, 900104, 900142, 900152, 900212, 900213, 900217, 900236, 900244, 900258, 900276, 100700835), 1)]\n",
            "-----------------loop start----------------------\n",
            "Itemsets of size  15 , count:  1\n",
            "sample: \n",
            "[((230101, 631356, 631831, 900101, 900104, 900142, 900152, 900212, 900213, 900217, 900236, 900244, 900258, 900276, 100700835), 1)]\n",
            "-----------------loop start----------------------\n",
            "Itemsets of size  16 , count:  0\n",
            "sample: \n",
            "[]\n"
          ]
        }
      ],
      "source": [
        "def generate_combinations(old_combinations):\n",
        "  \"\"\"\n",
        "  Input old_frequent_itemsets, and create new candidates from it\n",
        "  \"\"\"\n",
        "\n",
        "  def generate_combinations_util(old_combination):\n",
        "    \"\"\"\n",
        "    lambda function that maps an old combination to a number of new candidate combinations\n",
        "    \"\"\"\n",
        "    old_combination = old_combination[0]\n",
        "    old_combination_max_item = old_combination[-1]\n",
        "\n",
        "    # Can do here numpy way\n",
        "    bigger_items = remaining_items[remaining_items>old_combination_max_item]\n",
        "    new_candidates = []\n",
        "    for x in bigger_items:\n",
        "      new_candidates.append( old_combination + (x,) )\n",
        "\n",
        "    return new_candidates\n",
        "\n",
        "  remaining_items = np.array(old_combinations.flatMap(lambda x: x[0]).distinct().sortBy(lambda x: x).collect())\n",
        "  # print('remaining items: ', remaining_items)\n",
        "\n",
        "  new_combinations = old_combinations.flatMap(generate_combinations_util)\n",
        "  return new_combinations\n",
        "\n",
        "def get_new_frequents(candidates):\n",
        "  # frequent_itemsets_rdd = frequent_itemsets_rdd.filter(lambda x: set(x[0]) <= set(x[1])).map(lambda x: (x[0], 1)).reduceByKey(lambda x,y: x+y).filter(lambda x: x[1]>MIN_COUNT)\n",
        "  \n",
        "  _candidates = candidates.collect()\n",
        "  def count_freq(basket):\n",
        "    candidates_present = []\n",
        "    for candidate in _candidates:\n",
        "      if set(candidate) <= set(basket):\n",
        "        candidates_present.append( (candidate,1) )\n",
        "    \n",
        "    return candidates_present\n",
        "\n",
        "  frequent_itemsets_rdd = baskets_rdd.flatMap(count_freq).reduceByKey(lambda x,y: x+y).filter(lambda x: x[1]>MIN_COUNT)\n",
        "  \n",
        "  return frequent_itemsets_rdd\n",
        "\n",
        "k = 1\n",
        "frequent_itemsets_rdd = frequent_items_rdd\n",
        "while frequent_itemsets_rdd.count() != 0:\n",
        "  print('-----------------loop start----------------------')\n",
        "  k += 1\n",
        "  candidates = generate_combinations(frequent_itemsets_rdd)\n",
        "  frequent_itemsets_rdd = get_new_frequents(candidates)\n",
        "  print('Itemsets of size ', k, ', count: ', frequent_itemsets_rdd.count())\n",
        "  print('sample: ')\n",
        "  print(frequent_itemsets_rdd.take(10))\n",
        "\n"
      ]
    },
    {
      "cell_type": "markdown",
      "metadata": {
        "id": "Iv3HkpL2b4aH"
      },
      "source": [
        "#### Following cell shows A-Priori algorithm as a function which I explained details in above. "
      ]
    },
    {
      "cell_type": "code",
      "execution_count": null,
      "metadata": {
        "id": "EZL_6w5Ub8Y6"
      },
      "outputs": [],
      "source": [
        "def apriori(baskets_rdd, MIN_COUNT, verbose=False):\n",
        "  frequent_items_rdd = baskets_rdd.flatMap(lambda basket: [((item,),1) for item in basket]).reduceByKey(lambda x,y: x+y).filter(lambda x: x[1] > MIN_COUNT)\n",
        "\n",
        "  def generate_combinations(old_combinations):\n",
        "    \"\"\"\n",
        "    Input old_frequent_itemsets, and create new candidates from it\n",
        "    \"\"\"\n",
        "\n",
        "    def generate_combinations_util(old_combination):\n",
        "      \"\"\"\n",
        "      lambda function that maps an old combination to a number of new candidate combinations\n",
        "      \"\"\"\n",
        "      old_combination = old_combination[0]\n",
        "      old_combination_max_item = old_combination[-1]\n",
        "\n",
        "      # Can do here numpy way\n",
        "      bigger_items = remaining_items[remaining_items>old_combination_max_item]\n",
        "      new_candidates = []\n",
        "      for x in bigger_items:\n",
        "        new_candidates.append( old_combination + (x,) )\n",
        "\n",
        "      return new_candidates\n",
        "\n",
        "    remaining_items = np.array(old_combinations.flatMap(lambda x: x[0]).distinct().sortBy(lambda x: x).collect())\n",
        "\n",
        "    new_combinations = old_combinations.flatMap(generate_combinations_util)\n",
        "    return new_combinations\n",
        "\n",
        "  def get_new_frequents(candidates):\n",
        "    _candidates = candidates.collect()\n",
        "    def count_freq(basket):\n",
        "      candidates_present = []\n",
        "      for candidate in _candidates:\n",
        "        if set(candidate) <= set(basket):\n",
        "          candidates_present.append( (candidate,1) )\n",
        "\n",
        "      return candidates_present\n",
        "\n",
        "    frequent_itemsets_rdd = baskets_rdd.flatMap(count_freq).reduceByKey(lambda x,y: x+y).filter(lambda x: x[1]>MIN_COUNT)\n",
        "\n",
        "    return frequent_itemsets_rdd\n",
        "\n",
        "  if verbose:\n",
        "    print('MIN_COUNT is: ', MIN_COUNT)\n",
        "  k = 1\n",
        "  frequent_itemsets_rdd = frequent_items_rdd\n",
        "  frequent_itemsets_rdds = []\n",
        "  while frequent_itemsets_rdd.count() != 0:\n",
        "    frequent_itemsets_rdds.append(frequent_itemsets_rdd)\n",
        "    if verbose:\n",
        "      print('-----------------loop start----------------------')\n",
        "    k += 1\n",
        "    candidates = generate_combinations(frequent_itemsets_rdd)\n",
        "    frequent_itemsets_rdd = get_new_frequents(candidates)\n",
        "    if verbose:\n",
        "      print('Itemsets of size ', k, ', count: ', frequent_itemsets_rdd.count())\n",
        "      print('sample: ')\n",
        "      print(frequent_itemsets_rdd.take(10))\n",
        "\n",
        "  return frequent_itemsets_rdds\n",
        "\n"
      ]
    },
    {
      "cell_type": "markdown",
      "metadata": {
        "id": "EIcbvalfcAeN"
      },
      "source": [
        "The following cell is for testing the functionality of the written A-Priori function."
      ]
    },
    {
      "cell_type": "code",
      "execution_count": null,
      "metadata": {
        "id": "CkM75pxhlqoo",
        "outputId": "a4930fc0-0e03-469b-a192-c735f1ce2340"
      },
      "outputs": [
        {
          "name": "stderr",
          "output_type": "stream",
          "text": []
        },
        {
          "name": "stdout",
          "output_type": "stream",
          "text": [
            "MIN_COUNT is:  15\n",
            "-----------------loop start----------------------\n"
          ]
        },
        {
          "name": "stderr",
          "output_type": "stream",
          "text": []
        },
        {
          "name": "stdout",
          "output_type": "stream",
          "text": [
            "Itemsets of size  2 , count:  811\n",
            "sample: \n",
            "[((101301, 900101), 30), ((900102, 100701100), 36), ((900182, 100701100), 33), ((145, 100700841), 20), ((900222, 900228), 28), ((900222, 100700868), 171), ((100700866, 100700868), 47), ((900234, 900276), 34), ((900235, 100700871), 41), ((209103, 900235), 18)]\n",
            "-----------------loop start----------------------\n"
          ]
        },
        {
          "name": "stderr",
          "output_type": "stream",
          "text": []
        },
        {
          "name": "stdout",
          "output_type": "stream",
          "text": [
            "Itemsets of size  3 , count:  184\n",
            "sample: \n",
            "[((900212, 900244, 22009977), 23), ((631765, 900164, 900276), 17), ((631765, 900164, 100700820), 35), ((631765, 900276, 100700820), 21), ((900101, 900259, 100700841), 35), ((900155, 900222, 100700868), 50), ((205802, 900215, 900234), 19), ((142, 900215, 900234), 16), ((205802, 212802, 900233), 16), ((900215, 900234, 900256), 23)]\n",
            "-----------------loop start----------------------\n"
          ]
        },
        {
          "name": "stderr",
          "output_type": "stream",
          "text": []
        },
        {
          "name": "stdout",
          "output_type": "stream",
          "text": [
            "Itemsets of size  4 , count:  11\n",
            "sample: \n",
            "[((22010087, 22010088, 22010094, 22010095), 28), ((900101, 900212, 900244, 100700839), 16), ((900193, 900212, 900244, 100700839), 16), ((900102, 900142, 900212, 900244), 18), ((900142, 900202, 900212, 900244), 16), ((900142, 900212, 900244, 900249), 17), ((900142, 900212, 900244, 100700853), 54), ((209103, 900265, 100700804, 100700834), 21), ((900142, 900152, 900212, 900244), 18), ((231, 900236, 900255, 100700841), 20)]\n",
            "-----------------loop start----------------------\n",
            "Itemsets of size  5 , count:  0\n",
            "sample: \n",
            "[]\n"
          ]
        }
      ],
      "source": [
        "import numpy as np\n",
        "\n",
        "SAMPLE = True\n",
        "SAMPLE_SIZE = 0.01\n",
        "THRESHOLD = 0.001\n",
        "\n",
        "\n",
        "baskets_rdd = rdd_group.map(lambda x: x[1])\n",
        "\n",
        "if SAMPLE:\n",
        "  baskets_rdd = baskets_rdd.sample(True, SAMPLE_SIZE)\n",
        "  baskets_rdd = baskets_rdd.coalesce(10)\n",
        "  baskets_rdd.cache()\n",
        "\n",
        "BASKETS_COUNT = baskets_rdd.count()\n",
        "BASKETS_COUNT\n",
        "\n",
        "MIN_COUNT = int(THRESHOLD * BASKETS_COUNT)\n",
        "\n",
        "\n",
        "frequent_itemsets_rdds = apriori(baskets_rdd, MIN_COUNT, verbose=True)"
      ]
    },
    {
      "cell_type": "markdown",
      "metadata": {
        "id": "kJ_ye6eX7oF9"
      },
      "source": [
        "# Idea 4 (Collaborative Filtering using ALS)\n",
        "#### In this part we use ALS algorithm to impelement collaborative filtering to obtain a recommender system for the cameras."
      ]
    },
    {
      "cell_type": "code",
      "execution_count": null,
      "metadata": {
        "colab": {
          "base_uri": "https://localhost:8080/"
        },
        "id": "arwkaHpGSbkW",
        "outputId": "703a0527-3bc4-4495-e11e-000c65aaf031"
      },
      "outputs": [
        {
          "name": "stdout",
          "output_type": "stream",
          "text": [
            "+-----------+---------+---------------+-------------+----------------+----------+-------------------+---+\n",
            "|DEVICE_CODE|SYSTEM_ID|ORIGINE_CAR_KEY|FINAL_CAR_KEY|CHECK_STATUS_KEY|COMPANY_ID|      PASS_DAY_TIME|day|\n",
            "+-----------+---------+---------------+-------------+----------------+----------+-------------------+---+\n",
            "|   22010047|      284|       63455590|     63455590|               6|       161|2021-12-22 00:59:30|356|\n",
            "|   22010054|      284|       63566637|     64111706|               7|       161|2021-12-22 01:24:58|356|\n",
            "|   22010057|      284|       63653636|     63653636|               6|       161|2021-12-22 00:46:37|356|\n",
            "|   22010039|      284|       63562975|     64111706|               7|       161|2021-12-22 00:27:32|356|\n",
            "|   22010053|      284|       63634047|     64111706|               7|       161|2021-12-22 01:29:24|356|\n",
            "|  100701119|      284|       63466030|     64111706|               7|       161|2021-12-22 01:05:33|356|\n",
            "|   22010047|      284|       63479234|     63479234|               6|       161|2021-12-22 00:48:53|356|\n",
            "|   22010078|      284|       63474042|     64111706|               7|       161|2021-12-22 01:31:40|356|\n",
            "|  100701298|      284|       63473689|     63473689|               6|       264|2021-12-22 00:25:50|356|\n",
            "|   22010054|      284|       62996037|     62996037|               6|       161|2021-12-22 00:50:17|356|\n",
            "|   22010054|      284|       63445841|     64111706|               7|       161|2021-12-22 01:24:18|356|\n",
            "|   22010044|      284|       62982992|     62982992|               6|       161|2021-12-22 01:02:03|356|\n",
            "|  100701144|      284|       63604895|     63604895|               6|       264|2021-12-22 00:43:28|356|\n",
            "|   22010053|      284|       62986841|     64111706|               7|       161|2021-12-22 00:50:05|356|\n",
            "|   22010044|      284|       63011708|     63011708|               6|       161|2021-12-22 01:01:51|356|\n",
            "|   22010039|      284|       63318470|     63318470|               6|       161|2021-12-22 00:46:42|356|\n",
            "|   22010048|      284|       63594865|     63594865|               6|       161|2021-12-22 01:02:43|356|\n",
            "|  100701148|      284|       63011923|     64111706|               7|       264|2021-12-22 02:00:29|356|\n",
            "|   22010054|      284|       63326471|     63326471|               6|       161|2021-12-22 00:46:34|356|\n",
            "|   22010047|      284|       63547093|     63547093|               6|       161|2021-12-22 00:56:57|356|\n",
            "|   22010040|      284|       62987564|     64111706|               7|       161|2021-12-22 01:40:29|356|\n",
            "|   22010040|      284|       63548196|     64111706|               7|       161|2021-12-22 01:31:36|356|\n",
            "|  100701119|      284|       63548585|     63548585|               6|       161|2021-12-22 00:36:27|356|\n",
            "|   22010053|      284|       62995625|     64111706|               7|       161|2021-12-22 00:47:24|356|\n",
            "|   22010054|      284|       63495119|     64111706|               7|       161|2021-12-22 01:22:04|356|\n",
            "|   22010078|      284|       63182108|     63182108|               6|       161|2021-12-22 00:59:56|356|\n",
            "|     210110|       82|       63368390|     63368390|               1|       273|2021-12-22 01:30:10|356|\n",
            "|   22010040|      284|       63345797|     63345797|               6|       161|2021-12-22 01:35:35|356|\n",
            "|   22010040|      284|       63493883|     63493883|               6|       161|2021-12-22 00:42:26|356|\n",
            "|   22010043|      284|       63344316|     64111706|               7|       161|2021-12-22 00:44:24|356|\n",
            "+-----------+---------+---------------+-------------+----------------+----------+-------------------+---+\n",
            "only showing top 30 rows\n",
            "\n"
          ]
        }
      ],
      "source": [
        "from pyspark.sql.functions import dayofyear\n",
        "from pyspark.sql.functions import hour,dayofweek, count\n",
        "df = df.withColumn('day', dayofyear(df.PASS_DAY_TIME))\n",
        "df = df.filter(df.day != 159) ### for removing the day number 8 from dataset for having just 1 week in the dataset\n",
        "df.show(30)"
      ]
    },
    {
      "cell_type": "code",
      "execution_count": null,
      "metadata": {
        "colab": {
          "base_uri": "https://localhost:8080/"
        },
        "id": "4Thhaq8nS-S-",
        "outputId": "7a801f87-d0e7-4e31-a13a-7a8a6bc27567"
      },
      "outputs": [
        {
          "name": "stdout",
          "output_type": "stream",
          "text": [
            "+-----------+----+-----+\n",
            "|DEVICE_CODE|time|count|\n",
            "+-----------+----+-----+\n",
            "|     631776|  72|  349|\n",
            "|     900155|  73| 2189|\n",
            "|  100701295|  73|  170|\n",
            "|     631346|  73|  500|\n",
            "|     202601|  73|  288|\n",
            "|     900243|  75|  336|\n",
            "|     900208|  75|   49|\n",
            "|   10015201|  72|   39|\n",
            "|     631860|  77|   12|\n",
            "|     230201|  77|  459|\n",
            "|     200502|  74|  143|\n",
            "|  100700928|  77|    8|\n",
            "|  100700929|  77|  171|\n",
            "|  100700943|  77|   62|\n",
            "|   22010077|  78|  141|\n",
            "|        118|  79|  687|\n",
            "|   22009912|  78|  453|\n",
            "|     206401|  79|   50|\n",
            "|     900222|  81|20485|\n",
            "|        157|  80|  293|\n",
            "|        162|  80|   70|\n",
            "|     200802|  80|   15|\n",
            "|     631367|  32| 4712|\n",
            "|   22010118|  82| 2342|\n",
            "|     811002|  82|  130|\n",
            "|   22009920|  82|  141|\n",
            "|     210206|  73|   33|\n",
            "|   22000101|  80|   42|\n",
            "|     900127|  83|   82|\n",
            "|     631365|  85|  290|\n",
            "+-----------+----+-----+\n",
            "only showing top 30 rows\n",
            "\n"
          ]
        }
      ],
      "source": [
        "camera_time = df.withColumn('time', (dayofweek(df.PASS_DAY_TIME)-1)*24 + hour(df.PASS_DAY_TIME))\n",
        "camera_time = camera_time.groupBy('DEVICE_CODE', 'time').count()\n",
        "camera_time.show(30)"
      ]
    },
    {
      "cell_type": "markdown",
      "metadata": {
        "id": "_1mRWhq1i7Rd"
      },
      "source": [
        "#### In this part, we train a model by using ALS. In the below cell an ALS model is built out. The result is shown in below cell."
      ]
    },
    {
      "cell_type": "code",
      "execution_count": null,
      "metadata": {
        "id": "irBJiU7eeqf3"
      },
      "outputs": [],
      "source": [
        "from pyspark.ml.evaluation import RegressionEvaluator\n",
        "from pyspark.ml.recommendation import ALS\n",
        "from pyspark.ml.tuning import ParamGridBuilder, CrossValidator\n",
        "\n",
        "als = ALS(\n",
        "    maxIter = 5, \n",
        "    regParam = 0.01, \n",
        "    userCol = 'DEVICE_CODE', \n",
        "    itemCol = 'time', \n",
        "    ratingCol = 'count',\n",
        "    coldStartStrategy= 'drop')\n"
      ]
    },
    {
      "cell_type": "markdown",
      "metadata": {
        "id": "j8Zzq2hmkRJV"
      },
      "source": [
        "#### Now in this cell We will define the tuning parameter using param_grid function."
      ]
    },
    {
      "cell_type": "code",
      "execution_count": null,
      "metadata": {
        "id": "c4ko3daZkdqR"
      },
      "outputs": [],
      "source": [
        "from pyspark.ml.tuning import ParamGridBuilder, CrossValidator\n",
        "from pyspark.ml.evaluation import RegressionEvaluator\n",
        "\n",
        "param_grid = ParamGridBuilder() \\\n",
        "            .addGrid(als.rank, [10, 50, 100, 150]) \\\n",
        "            .addGrid(als.regParam, [.01, .05, .1, .15]) \\\n",
        "            .build()"
      ]
    },
    {
      "cell_type": "markdown",
      "metadata": {
        "id": "iwT__R5wkll3"
      },
      "source": [
        "#### In this part we define the evaluator, select rmse as metricName in evaluator."
      ]
    },
    {
      "cell_type": "code",
      "execution_count": null,
      "metadata": {
        "colab": {
          "base_uri": "https://localhost:8080/"
        },
        "id": "PmIkeEMNkg5g",
        "outputId": "622130e1-b8bd-4e64-bade-34da73dcb3bb"
      },
      "outputs": [
        {
          "name": "stdout",
          "output_type": "stream",
          "text": [
            "Num models to be tested:  16\n"
          ]
        }
      ],
      "source": [
        "evaluator = RegressionEvaluator(\n",
        "           metricName=\"rmse\", \n",
        "           labelCol=\"count\", \n",
        "           predictionCol=\"prediction\") \n",
        "print (\"Num models to be tested: \", len(param_grid))"
      ]
    },
    {
      "cell_type": "code",
      "execution_count": null,
      "metadata": {
        "id": "sImOQYOc2OY2"
      },
      "outputs": [],
      "source": [
        "cv = CrossValidator(estimator=als, estimatorParamMaps=param_grid, evaluator=evaluator, numFolds=5)"
      ]
    },
    {
      "cell_type": "markdown",
      "metadata": {
        "id": "6oUvKMHOlBu5"
      },
      "source": [
        "#### In this part we fit the model and make predictions on the test dataset."
      ]
    },
    {
      "cell_type": "code",
      "execution_count": null,
      "metadata": {
        "colab": {
          "base_uri": "https://localhost:8080/"
        },
        "id": "s7HH1K0YlBQc",
        "outputId": "97d79ae3-d209-45b7-8767-311b38dfbb44"
      },
      "outputs": [
        {
          "name": "stdout",
          "output_type": "stream",
          "text": [
            "290.77448204071976\n"
          ]
        }
      ],
      "source": [
        "train, test = camera_time.randomSplit([0.8, 0.2])\n",
        "model = cv.fit(train)\n",
        "\n",
        "best_model = model.bestModel\n",
        "\n",
        "test_predictions = best_model.transform(test)\n",
        "RMSE = evaluator.evaluate(test_predictions)\n",
        "print(RMSE)\n"
      ]
    },
    {
      "cell_type": "code",
      "execution_count": null,
      "metadata": {
        "colab": {
          "base_uri": "https://localhost:8080/"
        },
        "id": "mr4KcDNZG9EX",
        "outputId": "ffa9bb1b-1771-4f07-d7d8-12a5d265816f"
      },
      "outputs": [
        {
          "name": "stdout",
          "output_type": "stream",
          "text": [
            "+-----------+----+-----+----------+\n",
            "|DEVICE_CODE|time|count|prediction|\n",
            "+-----------+----+-----+----------+\n",
            "|        100|   7| 3092| 3150.6323|\n",
            "|        100|  21| 2616|  2571.437|\n",
            "|        100|  30| 2658| 2396.6726|\n",
            "|        100|  50|  197|  250.3899|\n",
            "|        100|  51|  111| 165.10571|\n",
            "|        100|  60| 3142| 2871.0034|\n",
            "|        100|  64| 3293| 3050.4653|\n",
            "|        100|  73|  700|  876.7092|\n",
            "|        100|  89| 4673|  4543.831|\n",
            "|        100|  96| 1280| 1399.1458|\n",
            "+-----------+----+-----+----------+\n",
            "only showing top 10 rows\n",
            "\n"
          ]
        }
      ],
      "source": [
        "test_predictions.show(10)"
      ]
    },
    {
      "cell_type": "markdown",
      "metadata": {
        "id": "ij12hHMBXHwf"
      },
      "source": [
        "#### As we can see, the prediction and the count columns are almost near to each other and it shows that the model perform almost well to predict the count of cars that cameras recorded. Now, we make recommendations based on our ALS model. "
      ]
    },
    {
      "cell_type": "markdown",
      "metadata": {
        "id": "xDFE4aVzlV7k"
      },
      "source": [
        "#### In this part we make recommendations based on our ALS model. recommendForAllUsers(n) function in als takes n recommedations. Now we can predict the palte of each car which has the most probability. Also we can predict the time of cameras which has the most probability to record a plate of a car. We did that for the first 10 assumption in the below cell and also the result is shown."
      ]
    },
    {
      "cell_type": "code",
      "execution_count": null,
      "metadata": {
        "colab": {
          "base_uri": "https://localhost:8080/"
        },
        "id": "j2zP1nVUlWY_",
        "outputId": "ac0465b8-bd56-4b48-bccb-f4b51cd7f925"
      },
      "outputs": [
        {
          "name": "stdout",
          "output_type": "stream",
          "text": [
            "+-----------+--------------------+\n",
            "|DEVICE_CODE|     recommendations|\n",
            "+-----------+--------------------+\n",
            "|        101|[{110, 315.3059},...|\n",
            "|        103|[{91, 1396.9277},...|\n",
            "|        107|[{91, 257.14954},...|\n",
            "|        108|[{115, 119.37649}...|\n",
            "|        111|[{110, 72.37816},...|\n",
            "|        112|[{79, 3166.4348},...|\n",
            "|        115|[{79, 3712.11}, {...|\n",
            "|        117|[{116, 4544.7227}...|\n",
            "|        120|[{113, 356.11893}...|\n",
            "|        122|[{113, 91.36427},...|\n",
            "|        126|[{91, 185.39758},...|\n",
            "|        127|[{90, 107.29126},...|\n",
            "|        128|[{111, 3732.966},...|\n",
            "|        137|[{111, 2242.4187}...|\n",
            "|        139|[{114, 400.90314}...|\n",
            "|        140|[{79, 1457.7283},...|\n",
            "|        146|[{115, 414.26782}...|\n",
            "|        148|[{91, 253.10085},...|\n",
            "|        154|[{115, 537.5974},...|\n",
            "|        155|[{79, 4783.2847},...|\n",
            "+-----------+--------------------+\n",
            "only showing top 20 rows\n",
            "\n",
            "+----+--------------------+\n",
            "|time|     recommendations|\n",
            "+----+--------------------+\n",
            "|   0|[{900212, 7122.13...|\n",
            "|   1|[{900212, 3855.38...|\n",
            "|   2|[{900212, 2029.28...|\n",
            "|   3|[{900212, 1582.88...|\n",
            "|   4|[{900212, 2230.31...|\n",
            "|   5|[{900212, 9201.19...|\n",
            "|   6|[{900244, 22531.5...|\n",
            "|   7|[{900244, 25559.9...|\n",
            "|   8|[{900244, 24801.2...|\n",
            "|   9|[{900244, 23562.3...|\n",
            "|  10|[{900244, 22646.8...|\n",
            "|  11|[{900244, 21808.7...|\n",
            "|  12|[{900244, 21494.6...|\n",
            "|  13|[{631634, 23677.8...|\n",
            "|  14|[{631634, 21183.2...|\n",
            "|  15|[{100700841, 2238...|\n",
            "|  16|[{100700841, 2416...|\n",
            "|  17|[{900269, 19237.4...|\n",
            "|  18|[{900269, 19631.6...|\n",
            "|  19|[{900269, 20594.0...|\n",
            "+----+--------------------+\n",
            "only showing top 20 rows\n",
            "\n"
          ]
        }
      ],
      "source": [
        "model = als.fit(train)\n",
        "user_recommendations = model.recommendForAllUsers(10)\n",
        "camera_recommendations = model.recommendForAllItems(10)\n",
        "user_recommendations.show()\n",
        "camera_recommendations.show()"
      ]
    },
    {
      "cell_type": "markdown",
      "metadata": {
        "id": "8wZJL9iDBtov"
      },
      "source": [
        "#### In this part we test the algorithm for a some camera to see the result."
      ]
    },
    {
      "cell_type": "code",
      "execution_count": null,
      "metadata": {
        "colab": {
          "base_uri": "https://localhost:8080/"
        },
        "id": "e66Br2_fUHXA",
        "outputId": "11989c2a-72ab-4b8e-e026-18481334f6fc"
      },
      "outputs": [
        {
          "name": "stdout",
          "output_type": "stream",
          "text": [
            "+-----------+----+-----+\n",
            "|DEVICE_CODE|time|count|\n",
            "+-----------+----+-----+\n",
            "|        100|   7| 3092|\n",
            "|        100|  21| 2616|\n",
            "|        100|  30| 2658|\n",
            "|        100|  50|  197|\n",
            "|        100|  51|  111|\n",
            "|        100|  60| 3142|\n",
            "|        100|  64| 3293|\n",
            "|        100|  73|  700|\n",
            "|        100|  89| 4673|\n",
            "|        100|  96| 1280|\n",
            "+-----------+----+-----+\n",
            "only showing top 10 rows\n",
            "\n"
          ]
        }
      ],
      "source": [
        "camera_sample = test.filter(df.DEVICE_CODE < 200)\n",
        "camera_sample.show(10)"
      ]
    },
    {
      "cell_type": "markdown",
      "metadata": {
        "id": "PeL9CV9nXcbY"
      },
      "source": [
        "#### As we can see our model has this ability to work as Recommender System. As a matter of fact, our recommender system can estimate number of cars which will be recorded by each camera for specific days and hours. The application of this recommender system is that we can decide that which camera can be turned off for saving energy or we can decide to keep which cameras always on or we can decide to use specific cameras in specific roads for specific hours.\n",
        "#### Also another useful application of this is recommending roads in navigating applications like Google Maps, Balad, Neshaan or other ones. The base of this recommendation is that if a camera record car passing a lot, it can alert that cars don’t pass from that road and recommend other roads base on their traffic.\n"
      ]
    },
    {
      "cell_type": "markdown",
      "metadata": {
        "id": "vAzQuwtXCbc1"
      },
      "source": [
        "#### Now for these cameras we predict the number of count of seen cars."
      ]
    },
    {
      "cell_type": "code",
      "execution_count": null,
      "metadata": {
        "colab": {
          "base_uri": "https://localhost:8080/"
        },
        "id": "h9KKuZn1Cawl",
        "outputId": "4254998b-3b7e-4ebe-b6f1-b705b042a6a2"
      },
      "outputs": [
        {
          "name": "stdout",
          "output_type": "stream",
          "text": [
            "+-----------+----+-----+----------+\n",
            "|DEVICE_CODE|time|count|prediction|\n",
            "+-----------+----+-----+----------+\n",
            "|        100|   7| 3092|  3143.051|\n",
            "|        100|  21| 2616| 2586.9138|\n",
            "|        100|  30| 2658| 2398.1572|\n",
            "|        100|  50|  197| 249.42282|\n",
            "|        100|  51|  111| 164.80054|\n",
            "|        100|  60| 3142| 2895.0964|\n",
            "|        100|  64| 3293| 3052.2917|\n",
            "|        100|  73|  700| 877.72314|\n",
            "|        100|  89| 4673|  4557.826|\n",
            "|        100|  96| 1280|  1398.055|\n",
            "+-----------+----+-----+----------+\n",
            "only showing top 10 rows\n",
            "\n"
          ]
        }
      ],
      "source": [
        "prediction_sample = model.transform(camera_sample)\n",
        "prediction_sample.show(10)"
      ]
    },
    {
      "cell_type": "markdown",
      "metadata": {
        "id": "kyR6NPD9lPgP"
      },
      "source": [
        "# Idea 5 (Pixie)\n",
        "#### In this part we use a part of algorithm like Page Rank to find the most similar cars and cameras. In the other words, we use pixie to find similarities of cars and cameras in this part."
      ]
    },
    {
      "cell_type": "markdown",
      "metadata": {
        "id": "bzTSwLOBYBD4"
      },
      "source": [
        "#### For using this algorithm, we make a 2 parts graph which one side of that are cars and the other side are cameras. Then we consider an edge between each car and the camera which recorded that car that the weight of each edge is equal to number of passing that car which was recorded by that camera. The we save all the edges in a list to obtain exit edge of each vertex.\n",
        "#### Then we implement Pixie algorithm. This algorithm can be started from either a camera or a car. We explain just one side of that is this report but the implementation for both sides are written in the notebook.\n",
        "#### With starting from a primary camera, we select a camera accidentally and then we we select list of all cars which are recorded by that camera and do this process for cars again. We set a counter for each camera and with passing through that camera on the graph, we add a number to that counter.\n",
        "#### After we pass all of the list of cameras and cars on the graph we print list of counters as output.\n",
        "#### An important note of this algorithm is that we turn back to the previous vertex with a specific probability. In this part I put this probability equal to 0.1.\n"
      ]
    },
    {
      "cell_type": "markdown",
      "metadata": {
        "id": "_PpdYKGvmAzk"
      },
      "source": [
        "#### For the first step, we just keep the most passed cars to have better analysis through the data. The result of this part is shown in the below cell."
      ]
    },
    {
      "cell_type": "code",
      "execution_count": null,
      "metadata": {
        "colab": {
          "base_uri": "https://localhost:8080/"
        },
        "id": "fhpQ8WFfnj7R",
        "outputId": "6b707cc6-7da8-4502-b7b6-120e820b28b8"
      },
      "outputs": [
        {
          "name": "stdout",
          "output_type": "stream",
          "text": [
            "+-----------+---------+---------------+-------------+----------------+----------+-------------------+---+\n",
            "|DEVICE_CODE|SYSTEM_ID|ORIGINE_CAR_KEY|FINAL_CAR_KEY|CHECK_STATUS_KEY|COMPANY_ID|      PASS_DAY_TIME|day|\n",
            "+-----------+---------+---------------+-------------+----------------+----------+-------------------+---+\n",
            "|   22010047|      284|       63455590|     63455590|               6|       161|2021-12-22 00:59:30|356|\n",
            "|   22010054|      284|       63566637|     64111706|               7|       161|2021-12-22 01:24:58|356|\n",
            "|   22010057|      284|       63653636|     63653636|               6|       161|2021-12-22 00:46:37|356|\n",
            "|   22010039|      284|       63562975|     64111706|               7|       161|2021-12-22 00:27:32|356|\n",
            "|   22010053|      284|       63634047|     64111706|               7|       161|2021-12-22 01:29:24|356|\n",
            "|  100701119|      284|       63466030|     64111706|               7|       161|2021-12-22 01:05:33|356|\n",
            "|   22010047|      284|       63479234|     63479234|               6|       161|2021-12-22 00:48:53|356|\n",
            "|   22010078|      284|       63474042|     64111706|               7|       161|2021-12-22 01:31:40|356|\n",
            "|  100701298|      284|       63473689|     63473689|               6|       264|2021-12-22 00:25:50|356|\n",
            "|   22010054|      284|       62996037|     62996037|               6|       161|2021-12-22 00:50:17|356|\n",
            "+-----------+---------+---------------+-------------+----------------+----------+-------------------+---+\n",
            "only showing top 10 rows\n",
            "\n"
          ]
        }
      ],
      "source": [
        "df = df.withColumn('day', dayofyear(df.PASS_DAY_TIME))\n",
        "df = df.filter(df.day != 159)\n",
        "df.show(10)"
      ]
    },
    {
      "cell_type": "code",
      "execution_count": null,
      "metadata": {
        "colab": {
          "base_uri": "https://localhost:8080/"
        },
        "id": "yWJ8QE83nzz2",
        "outputId": "3d49f21d-4d80-4c73-8a97-2b9edd25dd46"
      },
      "outputs": [
        {
          "name": "stdout",
          "output_type": "stream",
          "text": [
            "+-----------+---------+---------------+-------------+----------------+----------+-------------------+---+\n",
            "|DEVICE_CODE|SYSTEM_ID|ORIGINE_CAR_KEY|FINAL_CAR_KEY|CHECK_STATUS_KEY|COMPANY_ID|      PASS_DAY_TIME|day|\n",
            "+-----------+---------+---------------+-------------+----------------+----------+-------------------+---+\n",
            "|     900155|      283|       85241401|     85241401|               5|       264|2021-12-22 00:10:17|356|\n",
            "|     900234|      283|       27417975|     27417975|               5|       264|2021-12-22 00:12:59|356|\n",
            "|     900215|      283|       27417975|     27417975|               5|       264|2021-12-22 00:05:33|356|\n",
            "|     206601|       81|       27417975|     27417975|               5|       161|2021-12-22 00:16:18|356|\n",
            "|  100700864|      283|       19320613|     19320613|               5|       264|2021-12-22 00:06:25|356|\n",
            "|     900218|      283|       22820395|     22820395|               5|       264|2021-12-22 00:06:56|356|\n",
            "|     900234|      283|       22820395|     22820395|               5|       264|2021-12-22 00:13:08|356|\n",
            "|     101301|       81|       17979527|     17979527|               5|       161|2021-12-22 00:05:41|356|\n",
            "|   22010031|       81|       17979527|     17979527|               5|       161|2021-12-22 00:08:04|356|\n",
            "|  100700864|      283|       17979527|     17979527|               5|       264|2021-12-22 00:10:22|356|\n",
            "+-----------+---------+---------------+-------------+----------------+----------+-------------------+---+\n",
            "only showing top 10 rows\n",
            "\n"
          ]
        }
      ],
      "source": [
        "car_count = df.groupBy('FINAL_CAR_KEY').count()\n",
        "passed_cars = car_count.filter(car_count['count'] < 500).sort('count', ascending=False).select('FINAL_CAR_KEY').take(500)\n",
        "passed_cars = [x.FINAL_CAR_KEY for x in passed_cars]\n",
        "most_passed_cars = df.filter(df.FINAL_CAR_KEY.isin(passed_cars))\n",
        "most_passed_cars.show(10)"
      ]
    },
    {
      "cell_type": "markdown",
      "metadata": {
        "id": "RZTvw0g8sFYr"
      },
      "source": [
        "#### In this part, we make the dataframe shows each vertex our graph. The result can be seen in below cell."
      ]
    },
    {
      "cell_type": "code",
      "execution_count": null,
      "metadata": {
        "colab": {
          "base_uri": "https://localhost:8080/"
        },
        "id": "Ba-1iXIIqkdx",
        "outputId": "3e9307e5-7ba9-4c90-f296-db3ce4332336"
      },
      "outputs": [
        {
          "name": "stdout",
          "output_type": "stream",
          "text": [
            "+-----------+-------------+-----+\n",
            "|DEVICE_CODE|FINAL_CAR_KEY|count|\n",
            "+-----------+-------------+-----+\n",
            "|     900152|      7714196|   40|\n",
            "|   22010110|      8624089|    6|\n",
            "|     631775|      9362286|   35|\n",
            "|     900235|     16634592|   99|\n",
            "|     203701|      7971175|    6|\n",
            "|     900218|     14453224|   11|\n",
            "|     230204|    102565282|   20|\n",
            "|     900191|      9005949|    5|\n",
            "|     207101|      8543498|    2|\n",
            "|     900242|     16530586|   23|\n",
            "+-----------+-------------+-----+\n",
            "only showing top 10 rows\n",
            "\n"
          ]
        }
      ],
      "source": [
        "car_and_camera_df = most_passed_cars.groupBy('DEVICE_CODE', 'FINAL_CAR_KEY').count()\n",
        "car_and_camera_df.show(10)"
      ]
    },
    {
      "cell_type": "markdown",
      "metadata": {
        "id": "9r4FQAH8yH_Y"
      },
      "source": [
        "#### Now we add index to cars and cameras. The result is show in below cell."
      ]
    },
    {
      "cell_type": "code",
      "execution_count": null,
      "metadata": {
        "colab": {
          "base_uri": "https://localhost:8080/"
        },
        "id": "kk4kZ3Ihynv2",
        "outputId": "5c354f71-6f40-40de-9a6e-923a8008f085"
      },
      "outputs": [
        {
          "name": "stdout",
          "output_type": "stream",
          "text": [
            "+-----------+-------------+-----+---------+------------+\n",
            "|DEVICE_CODE|FINAL_CAR_KEY|count|CAR_INDEX|CAMERA_INDEX|\n",
            "+-----------+-------------+-----+---------+------------+\n",
            "|     900152|      7714196|   40|    279.0|       143.0|\n",
            "|   22010110|      8624089|    6|    333.0|       397.0|\n",
            "|     631775|      9362286|   35|    417.0|       100.0|\n",
            "|     900235|     16634592|   99|    492.0|        81.0|\n",
            "|     203701|      7971175|    6|    328.0|       273.0|\n",
            "|     900218|     14453224|   11|     98.0|        10.0|\n",
            "|     230204|    102565282|   20|     24.0|        68.0|\n",
            "|     900191|      9005949|    5|    154.0|        58.0|\n",
            "|     207101|      8543498|    2|     81.0|       187.0|\n",
            "|     900242|     16530586|   23|    233.0|        62.0|\n",
            "+-----------+-------------+-----+---------+------------+\n",
            "only showing top 10 rows\n",
            "\n"
          ]
        }
      ],
      "source": [
        "from pyspark.ml.feature import StringIndexer\n",
        "\n",
        "car_and_camera_index = StringIndexer(inputCol='FINAL_CAR_KEY', outputCol='CAR_INDEX').fit(car_and_camera_df).transform(car_and_camera_df)\n",
        "car_and_camera_index = StringIndexer(inputCol='DEVICE_CODE', outputCol='CAMERA_INDEX').fit(car_and_camera_index).transform(car_and_camera_index)\n",
        "\n",
        "car_and_camera_index.show(10)"
      ]
    },
    {
      "cell_type": "markdown",
      "metadata": {
        "id": "4hG5ohfm0r8G"
      },
      "source": [
        "#### Now we make 2 RDDs which obtain exit vertex of each car and camera. The results are shown in below cell. "
      ]
    },
    {
      "cell_type": "code",
      "execution_count": null,
      "metadata": {
        "colab": {
          "base_uri": "https://localhost:8080/"
        },
        "id": "qK7UyQb213K_",
        "outputId": "866a5103-f8bd-4d12-a899-defb373d4800"
      },
      "outputs": [
        {
          "name": "stdout",
          "output_type": "stream",
          "text": [
            "car_count_pixie =  500\n",
            "camera_count_pixie =  627\n"
          ]
        }
      ],
      "source": [
        "cars_heads = car_and_camera_index.rdd.map(lambda x: (int(x.CAR_INDEX), int(x.CAMERA_INDEX))).groupByKey().mapValues(list).sortByKey()\n",
        "camera_heads = car_and_camera_index.rdd.map(lambda x: (int(x.CAMERA_INDEX), int(x.CAR_INDEX))).groupByKey().mapValues(list).sortByKey()\n",
        "\n",
        "car_count_pixie = cars_heads.count()\n",
        "camera_count_pixie = camera_heads.count()\n",
        "print(\"car_count_pixie = \", car_count_pixie)\n",
        "print(\"camera_count_pixie = \", camera_count_pixie)"
      ]
    },
    {
      "cell_type": "code",
      "execution_count": null,
      "metadata": {
        "colab": {
          "base_uri": "https://localhost:8080/"
        },
        "id": "nc2ra1oa2ThQ",
        "outputId": "8d53fd1c-119a-4372-b8bd-b8835a47da58"
      },
      "outputs": [
        {
          "data": {
            "text/plain": [
              "[(0,\n",
              "  [109,\n",
              "   347,\n",
              "   35,\n",
              "   62,\n",
              "   254,\n",
              "   211,\n",
              "   40,\n",
              "   25,\n",
              "   89,\n",
              "   16,\n",
              "   60,\n",
              "   230,\n",
              "   64,\n",
              "   269,\n",
              "   48,\n",
              "   1,\n",
              "   36,\n",
              "   26,\n",
              "   165,\n",
              "   70,\n",
              "   58,\n",
              "   41,\n",
              "   135,\n",
              "   72,\n",
              "   169,\n",
              "   136,\n",
              "   128,\n",
              "   150,\n",
              "   134,\n",
              "   83,\n",
              "   198,\n",
              "   250,\n",
              "   5,\n",
              "   153,\n",
              "   212,\n",
              "   171,\n",
              "   49,\n",
              "   61,\n",
              "   3,\n",
              "   71,\n",
              "   22,\n",
              "   12,\n",
              "   50,\n",
              "   46,\n",
              "   233,\n",
              "   6,\n",
              "   76,\n",
              "   336,\n",
              "   39,\n",
              "   156,\n",
              "   291,\n",
              "   229,\n",
              "   99,\n",
              "   221,\n",
              "   67,\n",
              "   258,\n",
              "   127,\n",
              "   144,\n",
              "   15,\n",
              "   87,\n",
              "   172,\n",
              "   131,\n",
              "   104,\n",
              "   166,\n",
              "   21,\n",
              "   73,\n",
              "   85,\n",
              "   176,\n",
              "   595,\n",
              "   38,\n",
              "   118,\n",
              "   194,\n",
              "   187,\n",
              "   82,\n",
              "   197,\n",
              "   239,\n",
              "   193,\n",
              "   220,\n",
              "   160,\n",
              "   66,\n",
              "   138,\n",
              "   32,\n",
              "   170,\n",
              "   341,\n",
              "   226,\n",
              "   17,\n",
              "   18,\n",
              "   183,\n",
              "   217,\n",
              "   77,\n",
              "   97,\n",
              "   31,\n",
              "   4,\n",
              "   43,\n",
              "   112,\n",
              "   124,\n",
              "   140,\n",
              "   20,\n",
              "   108,\n",
              "   86,\n",
              "   453,\n",
              "   162,\n",
              "   75,\n",
              "   56,\n",
              "   253,\n",
              "   130,\n",
              "   110,\n",
              "   33,\n",
              "   81,\n",
              "   137,\n",
              "   14,\n",
              "   0,\n",
              "   34,\n",
              "   93,\n",
              "   132,\n",
              "   9,\n",
              "   204,\n",
              "   244,\n",
              "   209,\n",
              "   57,\n",
              "   24,\n",
              "   19,\n",
              "   98,\n",
              "   45,\n",
              "   103,\n",
              "   10,\n",
              "   74,\n",
              "   129,\n",
              "   55,\n",
              "   143,\n",
              "   243,\n",
              "   53,\n",
              "   489,\n",
              "   491,\n",
              "   331,\n",
              "   79,\n",
              "   91,\n",
              "   215,\n",
              "   245,\n",
              "   249,\n",
              "   52,\n",
              "   295,\n",
              "   191,\n",
              "   167,\n",
              "   196,\n",
              "   182,\n",
              "   218,\n",
              "   88,\n",
              "   11,\n",
              "   158,\n",
              "   42,\n",
              "   180,\n",
              "   29,\n",
              "   23,\n",
              "   30,\n",
              "   105,\n",
              "   277,\n",
              "   107,\n",
              "   7,\n",
              "   106,\n",
              "   450,\n",
              "   216,\n",
              "   318,\n",
              "   139,\n",
              "   92,\n",
              "   126,\n",
              "   100,\n",
              "   96,\n",
              "   125,\n",
              "   78,\n",
              "   54,\n",
              "   8,\n",
              "   13,\n",
              "   286,\n",
              "   179,\n",
              "   111,\n",
              "   44,\n",
              "   59,\n",
              "   149,\n",
              "   300,\n",
              "   188,\n",
              "   95,\n",
              "   133,\n",
              "   349,\n",
              "   404])]"
            ]
          },
          "execution_count": 20,
          "metadata": {},
          "output_type": "execute_result"
        }
      ],
      "source": [
        "cars_heads.take(1)"
      ]
    },
    {
      "cell_type": "code",
      "execution_count": null,
      "metadata": {
        "colab": {
          "base_uri": "https://localhost:8080/"
        },
        "id": "9J6HNzFz3YhR",
        "outputId": "cd786cd3-1773-4174-c2d6-490589ffdcba"
      },
      "outputs": [
        {
          "data": {
            "text/plain": [
              "[(0,\n",
              "  [107,\n",
              "   71,\n",
              "   346,\n",
              "   7,\n",
              "   142,\n",
              "   124,\n",
              "   273,\n",
              "   163,\n",
              "   95,\n",
              "   33,\n",
              "   125,\n",
              "   143,\n",
              "   300,\n",
              "   304,\n",
              "   206,\n",
              "   250,\n",
              "   241,\n",
              "   153,\n",
              "   324,\n",
              "   322,\n",
              "   275,\n",
              "   149,\n",
              "   455,\n",
              "   175,\n",
              "   463,\n",
              "   19,\n",
              "   215,\n",
              "   48,\n",
              "   66,\n",
              "   168,\n",
              "   299,\n",
              "   271,\n",
              "   27,\n",
              "   117,\n",
              "   76,\n",
              "   199,\n",
              "   212,\n",
              "   386,\n",
              "   35,\n",
              "   218,\n",
              "   225,\n",
              "   32,\n",
              "   261,\n",
              "   10,\n",
              "   266,\n",
              "   375,\n",
              "   464,\n",
              "   282,\n",
              "   64,\n",
              "   170,\n",
              "   181,\n",
              "   214,\n",
              "   424,\n",
              "   354,\n",
              "   267,\n",
              "   470,\n",
              "   237,\n",
              "   289,\n",
              "   182,\n",
              "   427,\n",
              "   22,\n",
              "   114,\n",
              "   69,\n",
              "   105,\n",
              "   389,\n",
              "   173,\n",
              "   29,\n",
              "   179,\n",
              "   220,\n",
              "   79,\n",
              "   176,\n",
              "   321,\n",
              "   210,\n",
              "   169,\n",
              "   341,\n",
              "   284,\n",
              "   426,\n",
              "   268,\n",
              "   419,\n",
              "   99,\n",
              "   147,\n",
              "   61,\n",
              "   407,\n",
              "   193,\n",
              "   187,\n",
              "   227,\n",
              "   221,\n",
              "   280,\n",
              "   301,\n",
              "   317,\n",
              "   408,\n",
              "   293,\n",
              "   127,\n",
              "   82,\n",
              "   96,\n",
              "   347,\n",
              "   439,\n",
              "   30,\n",
              "   363,\n",
              "   91,\n",
              "   401,\n",
              "   222,\n",
              "   374,\n",
              "   411,\n",
              "   211,\n",
              "   145,\n",
              "   242,\n",
              "   40,\n",
              "   195,\n",
              "   344,\n",
              "   98,\n",
              "   174,\n",
              "   323,\n",
              "   26,\n",
              "   81,\n",
              "   129,\n",
              "   110,\n",
              "   357,\n",
              "   362,\n",
              "   201,\n",
              "   14,\n",
              "   132,\n",
              "   44,\n",
              "   116,\n",
              "   285,\n",
              "   119,\n",
              "   58,\n",
              "   62,\n",
              "   315,\n",
              "   38,\n",
              "   192,\n",
              "   18,\n",
              "   385,\n",
              "   156,\n",
              "   318,\n",
              "   208,\n",
              "   417,\n",
              "   382,\n",
              "   8,\n",
              "   367,\n",
              "   136,\n",
              "   1,\n",
              "   243,\n",
              "   123,\n",
              "   264,\n",
              "   34,\n",
              "   60,\n",
              "   180,\n",
              "   45,\n",
              "   141,\n",
              "   103,\n",
              "   46,\n",
              "   9,\n",
              "   178,\n",
              "   121,\n",
              "   191,\n",
              "   111,\n",
              "   63,\n",
              "   24,\n",
              "   106,\n",
              "   244,\n",
              "   380,\n",
              "   309,\n",
              "   306,\n",
              "   188,\n",
              "   376,\n",
              "   59,\n",
              "   438,\n",
              "   140,\n",
              "   53,\n",
              "   126,\n",
              "   238,\n",
              "   190,\n",
              "   477,\n",
              "   368,\n",
              "   443,\n",
              "   148,\n",
              "   290,\n",
              "   476,\n",
              "   224,\n",
              "   444,\n",
              "   377,\n",
              "   330,\n",
              "   371,\n",
              "   339,\n",
              "   404,\n",
              "   388,\n",
              "   329,\n",
              "   228,\n",
              "   423,\n",
              "   160,\n",
              "   302,\n",
              "   70,\n",
              "   305,\n",
              "   177,\n",
              "   167,\n",
              "   165,\n",
              "   378,\n",
              "   406,\n",
              "   432,\n",
              "   262,\n",
              "   102,\n",
              "   379,\n",
              "   204,\n",
              "   331,\n",
              "   353,\n",
              "   232,\n",
              "   223,\n",
              "   257,\n",
              "   334,\n",
              "   0,\n",
              "   92,\n",
              "   352,\n",
              "   247,\n",
              "   272,\n",
              "   311,\n",
              "   80,\n",
              "   387,\n",
              "   209,\n",
              "   467,\n",
              "   159,\n",
              "   312,\n",
              "   355,\n",
              "   73,\n",
              "   364,\n",
              "   338,\n",
              "   183,\n",
              "   25,\n",
              "   36,\n",
              "   345,\n",
              "   409,\n",
              "   230,\n",
              "   259,\n",
              "   94,\n",
              "   398,\n",
              "   256,\n",
              "   249,\n",
              "   155,\n",
              "   428,\n",
              "   327,\n",
              "   104,\n",
              "   349,\n",
              "   115,\n",
              "   65,\n",
              "   109,\n",
              "   67,\n",
              "   164,\n",
              "   41,\n",
              "   49,\n",
              "   360,\n",
              "   51,\n",
              "   235,\n",
              "   295,\n",
              "   135,\n",
              "   68,\n",
              "   122,\n",
              "   294,\n",
              "   12,\n",
              "   403,\n",
              "   43,\n",
              "   310,\n",
              "   446,\n",
              "   205,\n",
              "   75,\n",
              "   383,\n",
              "   93,\n",
              "   15,\n",
              "   78,\n",
              "   276,\n",
              "   202,\n",
              "   39,\n",
              "   405,\n",
              "   87,\n",
              "   185,\n",
              "   217,\n",
              "   137,\n",
              "   335,\n",
              "   246,\n",
              "   245,\n",
              "   161,\n",
              "   89,\n",
              "   4,\n",
              "   158,\n",
              "   42,\n",
              "   251,\n",
              "   231,\n",
              "   402,\n",
              "   197,\n",
              "   462,\n",
              "   72,\n",
              "   37,\n",
              "   288,\n",
              "   286,\n",
              "   198,\n",
              "   366,\n",
              "   194,\n",
              "   139,\n",
              "   31,\n",
              "   88,\n",
              "   28,\n",
              "   5,\n",
              "   351,\n",
              "   138,\n",
              "   21,\n",
              "   77,\n",
              "   47,\n",
              "   342,\n",
              "   263,\n",
              "   350,\n",
              "   254,\n",
              "   13,\n",
              "   291,\n",
              "   57,\n",
              "   216,\n",
              "   416,\n",
              "   213,\n",
              "   6,\n",
              "   118,\n",
              "   16,\n",
              "   229,\n",
              "   239,\n",
              "   74,\n",
              "   433,\n",
              "   85,\n",
              "   308,\n",
              "   171,\n",
              "   52,\n",
              "   2,\n",
              "   453,\n",
              "   151,\n",
              "   84,\n",
              "   154,\n",
              "   248,\n",
              "   172,\n",
              "   184,\n",
              "   97,\n",
              "   112,\n",
              "   55,\n",
              "   298,\n",
              "   134,\n",
              "   50,\n",
              "   113,\n",
              "   133,\n",
              "   120,\n",
              "   207,\n",
              "   130,\n",
              "   54,\n",
              "   365,\n",
              "   395,\n",
              "   393,\n",
              "   56,\n",
              "   152,\n",
              "   219,\n",
              "   23,\n",
              "   17,\n",
              "   234,\n",
              "   86,\n",
              "   361,\n",
              "   162,\n",
              "   252,\n",
              "   333,\n",
              "   226,\n",
              "   313,\n",
              "   410,\n",
              "   431,\n",
              "   20,\n",
              "   279,\n",
              "   296,\n",
              "   396,\n",
              "   196,\n",
              "   144,\n",
              "   189,\n",
              "   146,\n",
              "   236,\n",
              "   186,\n",
              "   283,\n",
              "   479,\n",
              "   3,\n",
              "   11,\n",
              "   434,\n",
              "   391,\n",
              "   83,\n",
              "   240,\n",
              "   101,\n",
              "   265,\n",
              "   461,\n",
              "   319,\n",
              "   449,\n",
              "   128,\n",
              "   277,\n",
              "   337,\n",
              "   358,\n",
              "   369,\n",
              "   307,\n",
              "   343,\n",
              "   90,\n",
              "   131,\n",
              "   314,\n",
              "   297,\n",
              "   454,\n",
              "   390,\n",
              "   336,\n",
              "   422,\n",
              "   441,\n",
              "   397,\n",
              "   150,\n",
              "   253,\n",
              "   458,\n",
              "   472])]"
            ]
          },
          "execution_count": 21,
          "metadata": {},
          "output_type": "execute_result"
        }
      ],
      "source": [
        "camera_heads.take(1)"
      ]
    },
    {
      "cell_type": "markdown",
      "metadata": {
        "id": "k_u45uHG3lB8"
      },
      "source": [
        "#### Now with using Pixie algorithm, we can find the most similar camera to each camera. Now in the next cell we select query of camera and query of car. In the below \"p\" shows probability of getting back to the first head and \"iter\" shows steps of the algorithm. In the below cell I define 3 functions as \"pixie\", \"cars_pixie\" and \"select_k\""
      ]
    },
    {
      "cell_type": "code",
      "execution_count": null,
      "metadata": {
        "id": "u4puVqM_8u7w"
      },
      "outputs": [],
      "source": [
        "import os\n",
        "import random\n",
        "\n",
        "query_camera = 600\n",
        "query_car = 500\n",
        "iter = 2000\n",
        "\n",
        "def pixie(query_camera, iter = 2000):\n",
        "    camera_scores = camera_count_pixie * [0]\n",
        "    closed_camera = query_camera\n",
        "    p = 0.1\n",
        "\n",
        "    for i in range(iter):\n",
        "\n",
        "        closed_car = camera_heads.lookup(query_camera)[0]\n",
        "        related = random.randint(0, len(closed_car)-1)\n",
        "        closed_car = closed_car[related]\n",
        "\n",
        "        closed_camera = cars_heads.lookup(closed_car)[0]\n",
        "        related = random.randint(0, len(closed_camera)-1)\n",
        "        closed_camera = closed_camera[related]\n",
        "\n",
        "        camera_scores[related] += 1\n",
        "\n",
        "        related = random.random()\n",
        "        if related < p:\n",
        "            closed_camera = query_camera\n",
        "\n",
        "    return camera_scores\n",
        "\n",
        "\n",
        "def cars_pixie(query_car, iter = 2000):\n",
        "    car_scores = car_count_pixie * [0]\n",
        "    closed_car = query_car\n",
        "    p = 0.1\n",
        "\n",
        "    for i in range(iter):\n",
        "\n",
        "        closed_camera = camera_heads.lookup(query_camera)[0]\n",
        "        related = random.randint(0, len(closed_camera)-1)\n",
        "        closed_camera = closed_camera[related]\n",
        "\n",
        "        closed_car = cars_heads.lookup(closed_car)[0]\n",
        "        related = random.randint(0, len(closed_car)-1)\n",
        "        closed_car = closed_car[related]\n",
        "        car_scores[related] += 1\n",
        "\n",
        "        related = random.random()\n",
        "        if related < p:\n",
        "            closed_car = query_car\n",
        "\n",
        "    return car_scores\n",
        "\n",
        "\n",
        "def select_k(input_list, k, remove=None):\n",
        "\n",
        "    high_k = sorted([(i,x) for i,x in enumerate(input_list)], key = lambda x: -x[1])[:k+1]\n",
        "    \n",
        "    if remove:\n",
        "        for x in high_k:\n",
        "            if x[0] == remove:\n",
        "                high_k.remove(x)\n",
        "                return high_k\n",
        "    else:\n",
        "\n",
        "        high_k = high_k[:k]\n",
        "    return high_k\n",
        "\n"
      ]
    },
    {
      "cell_type": "code",
      "execution_count": null,
      "metadata": {
        "id": "c0aY_g6KCgZR"
      },
      "outputs": [],
      "source": [
        "camera_scores = pixie(query_camera, iter)"
      ]
    },
    {
      "cell_type": "markdown",
      "metadata": {
        "id": "rXU7h8ZbQBeT"
      },
      "source": [
        "#### Now we see scores of a camera by using this algorithm in the below cell."
      ]
    },
    {
      "cell_type": "code",
      "execution_count": null,
      "metadata": {
        "colab": {
          "base_uri": "https://localhost:8080/"
        },
        "id": "HCDKpKmMLwpk",
        "outputId": "a3793ec4-0b6a-4e10-c89b-a5ec37b12970"
      },
      "outputs": [
        {
          "data": {
            "text/plain": [
              "[68,\n",
              " 77,\n",
              " 73,\n",
              " 59,\n",
              " 69,\n",
              " 75,\n",
              " 72,\n",
              " 81,\n",
              " 85,\n",
              " 80,\n",
              " 79,\n",
              " 80,\n",
              " 76,\n",
              " 80,\n",
              " 71,\n",
              " 66,\n",
              " 62,\n",
              " 78,\n",
              " 78,\n",
              " 70,\n",
              " 70,\n",
              " 76,\n",
              " 74,\n",
              " 84,\n",
              " 63,\n",
              " 80,\n",
              " 74,\n",
              " 0,\n",
              " 0,\n",
              " 0,\n",
              " 0,\n",
              " 0,\n",
              " 0,\n",
              " 0,\n",
              " 0,\n",
              " 0,\n",
              " 0,\n",
              " 0,\n",
              " 0,\n",
              " 0,\n",
              " 0,\n",
              " 0,\n",
              " 0,\n",
              " 0,\n",
              " 0,\n",
              " 0,\n",
              " 0,\n",
              " 0,\n",
              " 0,\n",
              " 0,\n",
              " 0,\n",
              " 0,\n",
              " 0,\n",
              " 0,\n",
              " 0,\n",
              " 0,\n",
              " 0,\n",
              " 0,\n",
              " 0,\n",
              " 0,\n",
              " 0,\n",
              " 0,\n",
              " 0,\n",
              " 0,\n",
              " 0,\n",
              " 0,\n",
              " 0,\n",
              " 0,\n",
              " 0,\n",
              " 0,\n",
              " 0,\n",
              " 0,\n",
              " 0,\n",
              " 0,\n",
              " 0,\n",
              " 0,\n",
              " 0,\n",
              " 0,\n",
              " 0,\n",
              " 0,\n",
              " 0,\n",
              " 0,\n",
              " 0,\n",
              " 0,\n",
              " 0,\n",
              " 0,\n",
              " 0,\n",
              " 0,\n",
              " 0,\n",
              " 0,\n",
              " 0,\n",
              " 0,\n",
              " 0,\n",
              " 0,\n",
              " 0,\n",
              " 0,\n",
              " 0,\n",
              " 0,\n",
              " 0,\n",
              " 0,\n",
              " 0,\n",
              " 0,\n",
              " 0,\n",
              " 0,\n",
              " 0,\n",
              " 0,\n",
              " 0,\n",
              " 0,\n",
              " 0,\n",
              " 0,\n",
              " 0,\n",
              " 0,\n",
              " 0,\n",
              " 0,\n",
              " 0,\n",
              " 0,\n",
              " 0,\n",
              " 0,\n",
              " 0,\n",
              " 0,\n",
              " 0,\n",
              " 0,\n",
              " 0,\n",
              " 0,\n",
              " 0,\n",
              " 0,\n",
              " 0,\n",
              " 0,\n",
              " 0,\n",
              " 0,\n",
              " 0,\n",
              " 0,\n",
              " 0,\n",
              " 0,\n",
              " 0,\n",
              " 0,\n",
              " 0,\n",
              " 0,\n",
              " 0,\n",
              " 0,\n",
              " 0,\n",
              " 0,\n",
              " 0,\n",
              " 0,\n",
              " 0,\n",
              " 0,\n",
              " 0,\n",
              " 0,\n",
              " 0,\n",
              " 0,\n",
              " 0,\n",
              " 0,\n",
              " 0,\n",
              " 0,\n",
              " 0,\n",
              " 0,\n",
              " 0,\n",
              " 0,\n",
              " 0,\n",
              " 0,\n",
              " 0,\n",
              " 0,\n",
              " 0,\n",
              " 0,\n",
              " 0,\n",
              " 0,\n",
              " 0,\n",
              " 0,\n",
              " 0,\n",
              " 0,\n",
              " 0,\n",
              " 0,\n",
              " 0,\n",
              " 0,\n",
              " 0,\n",
              " 0,\n",
              " 0,\n",
              " 0,\n",
              " 0,\n",
              " 0,\n",
              " 0,\n",
              " 0,\n",
              " 0,\n",
              " 0,\n",
              " 0,\n",
              " 0,\n",
              " 0,\n",
              " 0,\n",
              " 0,\n",
              " 0,\n",
              " 0,\n",
              " 0,\n",
              " 0,\n",
              " 0,\n",
              " 0,\n",
              " 0,\n",
              " 0,\n",
              " 0,\n",
              " 0,\n",
              " 0,\n",
              " 0,\n",
              " 0,\n",
              " 0,\n",
              " 0,\n",
              " 0,\n",
              " 0,\n",
              " 0,\n",
              " 0,\n",
              " 0,\n",
              " 0,\n",
              " 0,\n",
              " 0,\n",
              " 0,\n",
              " 0,\n",
              " 0,\n",
              " 0,\n",
              " 0,\n",
              " 0,\n",
              " 0,\n",
              " 0,\n",
              " 0,\n",
              " 0,\n",
              " 0,\n",
              " 0,\n",
              " 0,\n",
              " 0,\n",
              " 0,\n",
              " 0,\n",
              " 0,\n",
              " 0,\n",
              " 0,\n",
              " 0,\n",
              " 0,\n",
              " 0,\n",
              " 0,\n",
              " 0,\n",
              " 0,\n",
              " 0,\n",
              " 0,\n",
              " 0,\n",
              " 0,\n",
              " 0,\n",
              " 0,\n",
              " 0,\n",
              " 0,\n",
              " 0,\n",
              " 0,\n",
              " 0,\n",
              " 0,\n",
              " 0,\n",
              " 0,\n",
              " 0,\n",
              " 0,\n",
              " 0,\n",
              " 0,\n",
              " 0,\n",
              " 0,\n",
              " 0,\n",
              " 0,\n",
              " 0,\n",
              " 0,\n",
              " 0,\n",
              " 0,\n",
              " 0,\n",
              " 0,\n",
              " 0,\n",
              " 0,\n",
              " 0,\n",
              " 0,\n",
              " 0,\n",
              " 0,\n",
              " 0,\n",
              " 0,\n",
              " 0,\n",
              " 0,\n",
              " 0,\n",
              " 0,\n",
              " 0,\n",
              " 0,\n",
              " 0,\n",
              " 0,\n",
              " 0,\n",
              " 0,\n",
              " 0,\n",
              " 0,\n",
              " 0,\n",
              " 0,\n",
              " 0,\n",
              " 0,\n",
              " 0,\n",
              " 0,\n",
              " 0,\n",
              " 0,\n",
              " 0,\n",
              " 0,\n",
              " 0,\n",
              " 0,\n",
              " 0,\n",
              " 0,\n",
              " 0,\n",
              " 0,\n",
              " 0,\n",
              " 0,\n",
              " 0,\n",
              " 0,\n",
              " 0,\n",
              " 0,\n",
              " 0,\n",
              " 0,\n",
              " 0,\n",
              " 0,\n",
              " 0,\n",
              " 0,\n",
              " 0,\n",
              " 0,\n",
              " 0,\n",
              " 0,\n",
              " 0,\n",
              " 0,\n",
              " 0,\n",
              " 0,\n",
              " 0,\n",
              " 0,\n",
              " 0,\n",
              " 0,\n",
              " 0,\n",
              " 0,\n",
              " 0,\n",
              " 0,\n",
              " 0,\n",
              " 0,\n",
              " 0,\n",
              " 0,\n",
              " 0,\n",
              " 0,\n",
              " 0,\n",
              " 0,\n",
              " 0,\n",
              " 0,\n",
              " 0,\n",
              " 0,\n",
              " 0,\n",
              " 0,\n",
              " 0,\n",
              " 0,\n",
              " 0,\n",
              " 0,\n",
              " 0,\n",
              " 0,\n",
              " 0,\n",
              " 0,\n",
              " 0,\n",
              " 0,\n",
              " 0,\n",
              " 0,\n",
              " 0,\n",
              " 0,\n",
              " 0,\n",
              " 0,\n",
              " 0,\n",
              " 0,\n",
              " 0,\n",
              " 0,\n",
              " 0,\n",
              " 0,\n",
              " 0,\n",
              " 0,\n",
              " 0,\n",
              " 0,\n",
              " 0,\n",
              " 0,\n",
              " 0,\n",
              " 0,\n",
              " 0,\n",
              " 0,\n",
              " 0,\n",
              " 0,\n",
              " 0,\n",
              " 0,\n",
              " 0,\n",
              " 0,\n",
              " 0,\n",
              " 0,\n",
              " 0,\n",
              " 0,\n",
              " 0,\n",
              " 0,\n",
              " 0,\n",
              " 0,\n",
              " 0,\n",
              " 0,\n",
              " 0,\n",
              " 0,\n",
              " 0,\n",
              " 0,\n",
              " 0,\n",
              " 0,\n",
              " 0,\n",
              " 0,\n",
              " 0,\n",
              " 0,\n",
              " 0,\n",
              " 0,\n",
              " 0,\n",
              " 0,\n",
              " 0,\n",
              " 0,\n",
              " 0,\n",
              " 0,\n",
              " 0,\n",
              " 0,\n",
              " 0,\n",
              " 0,\n",
              " 0,\n",
              " 0,\n",
              " 0,\n",
              " 0,\n",
              " 0,\n",
              " 0,\n",
              " 0,\n",
              " 0,\n",
              " 0,\n",
              " 0,\n",
              " 0,\n",
              " 0,\n",
              " 0,\n",
              " 0,\n",
              " 0,\n",
              " 0,\n",
              " 0,\n",
              " 0,\n",
              " 0,\n",
              " 0,\n",
              " 0,\n",
              " 0,\n",
              " 0,\n",
              " 0,\n",
              " 0,\n",
              " 0,\n",
              " 0,\n",
              " 0,\n",
              " 0,\n",
              " 0,\n",
              " 0,\n",
              " 0,\n",
              " 0,\n",
              " 0,\n",
              " 0,\n",
              " 0,\n",
              " 0,\n",
              " 0,\n",
              " 0,\n",
              " 0,\n",
              " 0,\n",
              " 0,\n",
              " 0,\n",
              " 0,\n",
              " 0,\n",
              " 0,\n",
              " 0,\n",
              " 0,\n",
              " 0,\n",
              " 0,\n",
              " 0,\n",
              " 0,\n",
              " 0,\n",
              " 0,\n",
              " 0,\n",
              " 0,\n",
              " 0,\n",
              " 0,\n",
              " 0,\n",
              " 0,\n",
              " 0,\n",
              " 0,\n",
              " 0,\n",
              " 0,\n",
              " 0,\n",
              " 0,\n",
              " 0,\n",
              " 0,\n",
              " 0,\n",
              " 0,\n",
              " 0,\n",
              " 0,\n",
              " 0,\n",
              " 0,\n",
              " 0,\n",
              " 0,\n",
              " 0,\n",
              " 0,\n",
              " 0,\n",
              " 0,\n",
              " 0,\n",
              " 0,\n",
              " 0,\n",
              " 0,\n",
              " 0,\n",
              " 0,\n",
              " 0]"
            ]
          },
          "execution_count": 69,
          "metadata": {},
          "output_type": "execute_result"
        }
      ],
      "source": [
        "camera_scores"
      ]
    },
    {
      "cell_type": "code",
      "execution_count": null,
      "metadata": {
        "colab": {
          "base_uri": "https://localhost:8080/"
        },
        "id": "hXxpnvLAQfOs",
        "outputId": "c595070c-fc92-4353-c9c7-aa845bda6279"
      },
      "outputs": [
        {
          "name": "stdout",
          "output_type": "stream",
          "text": [
            "[(8, 85), (23, 84), (7, 81), (9, 80), (11, 80), (13, 80), (25, 80), (10, 79), (17, 78), (18, 78), (1, 77), (12, 76), (21, 76), (5, 75), (22, 74), (26, 74), (2, 73), (6, 72), (14, 71), (19, 70), (20, 70), (4, 69), (0, 68), (15, 66), (24, 63), (16, 62), (3, 59), (27, 0), (28, 0), (29, 0), (30, 0), (31, 0), (32, 0), (33, 0), (34, 0), (35, 0), (36, 0), (37, 0), (38, 0), (39, 0), (40, 0), (41, 0), (42, 0), (43, 0), (44, 0), (45, 0), (46, 0), (47, 0), (48, 0), (49, 0), (50, 0), (51, 0), (52, 0), (53, 0), (54, 0), (55, 0), (56, 0), (57, 0), (58, 0), (59, 0), (60, 0), (61, 0), (62, 0), (63, 0), (64, 0), (65, 0), (66, 0), (67, 0), (68, 0), (69, 0), (70, 0), (71, 0), (72, 0), (73, 0), (74, 0), (75, 0), (76, 0), (77, 0), (78, 0), (79, 0), (80, 0), (81, 0), (82, 0), (83, 0), (84, 0), (85, 0), (86, 0), (87, 0), (88, 0), (89, 0), (90, 0), (91, 0), (92, 0), (93, 0), (94, 0), (95, 0), (96, 0), (97, 0), (98, 0), (99, 0), (100, 0), (101, 0), (102, 0), (103, 0), (104, 0), (105, 0), (106, 0), (107, 0), (108, 0), (109, 0), (110, 0), (111, 0), (112, 0), (113, 0), (114, 0), (115, 0), (116, 0), (117, 0), (118, 0), (119, 0), (120, 0), (121, 0), (122, 0), (123, 0), (124, 0), (125, 0), (126, 0), (127, 0), (128, 0), (129, 0), (130, 0), (131, 0), (132, 0), (133, 0), (134, 0), (135, 0), (136, 0), (137, 0), (138, 0), (139, 0), (140, 0), (141, 0), (142, 0), (143, 0), (144, 0), (145, 0), (146, 0), (147, 0), (148, 0), (149, 0), (150, 0), (151, 0), (152, 0), (153, 0), (154, 0), (155, 0), (156, 0), (157, 0), (158, 0), (159, 0), (160, 0), (161, 0), (162, 0), (163, 0), (164, 0), (165, 0), (166, 0), (167, 0), (168, 0), (169, 0), (170, 0), (171, 0), (172, 0), (173, 0), (174, 0), (175, 0), (176, 0), (177, 0), (178, 0), (179, 0), (180, 0), (181, 0), (182, 0), (183, 0), (184, 0), (185, 0), (186, 0), (187, 0), (188, 0), (189, 0), (190, 0), (191, 0), (192, 0), (193, 0), (194, 0), (195, 0), (196, 0), (197, 0), (198, 0), (199, 0), (200, 0), (201, 0), (202, 0), (203, 0), (204, 0), (205, 0), (206, 0), (207, 0), (208, 0), (209, 0), (210, 0), (211, 0), (212, 0), (213, 0), (214, 0), (215, 0), (216, 0), (217, 0), (218, 0), (219, 0), (220, 0), (221, 0), (222, 0), (223, 0), (224, 0), (225, 0), (226, 0), (227, 0), (228, 0), (229, 0), (230, 0), (231, 0), (232, 0), (233, 0), (234, 0), (235, 0), (236, 0), (237, 0), (238, 0), (239, 0), (240, 0), (241, 0), (242, 0), (243, 0), (244, 0), (245, 0), (246, 0), (247, 0), (248, 0), (249, 0), (250, 0), (251, 0), (252, 0), (253, 0), (254, 0), (255, 0), (256, 0), (257, 0), (258, 0), (259, 0), (260, 0), (261, 0), (262, 0), (263, 0), (264, 0), (265, 0), (266, 0), (267, 0), (268, 0), (269, 0), (270, 0), (271, 0), (272, 0), (273, 0), (274, 0), (275, 0), (276, 0), (277, 0), (278, 0), (279, 0), (280, 0), (281, 0), (282, 0), (283, 0), (284, 0), (285, 0), (286, 0), (287, 0), (288, 0), (289, 0), (290, 0), (291, 0), (292, 0), (293, 0), (294, 0), (295, 0), (296, 0), (297, 0), (298, 0), (299, 0), (300, 0), (301, 0), (302, 0), (303, 0), (304, 0), (305, 0), (306, 0), (307, 0), (308, 0), (309, 0), (310, 0), (311, 0), (312, 0), (313, 0), (314, 0), (315, 0), (316, 0), (317, 0), (318, 0), (319, 0), (320, 0), (321, 0), (322, 0), (323, 0), (324, 0), (325, 0), (326, 0), (327, 0), (328, 0), (329, 0), (330, 0), (331, 0), (332, 0), (333, 0), (334, 0), (335, 0), (336, 0), (337, 0), (338, 0), (339, 0), (340, 0), (341, 0), (342, 0), (343, 0), (344, 0), (345, 0), (346, 0), (347, 0), (348, 0), (349, 0), (350, 0), (351, 0), (352, 0), (353, 0), (354, 0), (355, 0), (356, 0), (357, 0), (358, 0), (359, 0), (360, 0), (361, 0), (362, 0), (363, 0), (364, 0), (365, 0), (366, 0), (367, 0), (368, 0), (369, 0), (370, 0), (371, 0), (372, 0), (373, 0), (374, 0), (375, 0), (376, 0), (377, 0), (378, 0), (379, 0), (380, 0), (381, 0), (382, 0), (383, 0), (384, 0), (385, 0), (386, 0), (387, 0), (388, 0), (389, 0), (390, 0), (391, 0), (392, 0), (393, 0), (394, 0), (395, 0), (396, 0), (397, 0), (398, 0), (399, 0), (400, 0), (401, 0), (402, 0), (403, 0), (404, 0), (405, 0), (406, 0), (407, 0), (408, 0), (409, 0), (410, 0), (411, 0), (412, 0), (413, 0), (414, 0), (415, 0), (416, 0), (417, 0), (418, 0), (419, 0), (420, 0), (421, 0), (422, 0), (423, 0), (424, 0), (425, 0), (426, 0), (427, 0), (428, 0), (429, 0), (430, 0), (431, 0), (432, 0), (433, 0), (434, 0), (435, 0), (436, 0), (437, 0), (438, 0), (439, 0), (440, 0), (441, 0), (442, 0), (443, 0), (444, 0), (445, 0), (446, 0), (447, 0), (448, 0), (449, 0), (450, 0), (451, 0), (452, 0), (453, 0), (454, 0), (455, 0), (456, 0), (457, 0), (458, 0), (459, 0), (460, 0), (461, 0), (462, 0), (463, 0), (464, 0), (465, 0), (466, 0), (467, 0), (468, 0), (469, 0), (470, 0), (471, 0), (472, 0), (473, 0), (474, 0), (475, 0), (476, 0), (477, 0), (478, 0), (479, 0), (480, 0), (481, 0), (482, 0), (483, 0), (484, 0), (485, 0), (486, 0), (487, 0), (488, 0), (489, 0), (490, 0), (491, 0), (492, 0), (493, 0), (494, 0), (495, 0), (496, 0), (497, 0), (498, 0), (499, 0)]\n"
          ]
        }
      ],
      "source": [
        "high_k = select_k(camera_scores, 2000, 600)\n",
        "print(high_k)"
      ]
    },
    {
      "cell_type": "markdown",
      "metadata": {
        "id": "whQnNnaVREm2"
      },
      "source": [
        "#### Then with using Pixie algorithm, we can find the most similar camera to each camera. Now in the next cell we select query of camera and query of car. In the below \"p\" shows probability of getting back to the first head and \"iter\" shows steps of the algorithm. In this part I define 3 functions as \"pixie\", \"cars_pixie\" and \"select_k\" that are in the notebook.\n",
        "#### The application of this algorithm is that we can find near cameras. It’s because of that if a camera record passing of a specific car, its nearest cameras will record that car with more possibility. \n",
        "#### Be careful that other factors like similarities of cameras are effective in this algorithm. It means that similarity of cameras is not only base on their physical distance.\n",
        "#### Generally, we can find the most similar cameras in this algorithm. If we draw the graph that each vertex be the cameras we can reach to map of the city approximately.\n",
        "#### The other side of this algorithm is that this algorithm can find the nearest cars too exactly as the same as cameras. For example, if we mark an anomaly of a specific car, we can find other cars which have the same action on that city and penalize them. Also we can find best citizens in the city and encourage them because we can find any cars that are similar to each other and doesn’t matter whether that action is fine or not.\n"
      ]
    },
    {
      "cell_type": "code",
      "execution_count": null,
      "metadata": {
        "id": "VANcoJwqQ8fR"
      },
      "outputs": [],
      "source": [
        "def device_code(camera_index):\n",
        "    device_code = car_and_camera_index.filter(car_and_camera_index.CAMERA_INDEX == camera_index).take(1)[0]['DEVICE_CODE']\n",
        "    return device_code\n",
        "\n",
        "def system_id(device_code):\n",
        "    system_id = most_passed_cars.filter(most_passed_cars.DEVICE_CODE == device_code).take(1)[0]['SYSTEM_ID']\n",
        "    return system_id\n",
        "\n",
        "def system_id_from_index(camera_index):\n",
        "    device = device_code(camera_index)\n",
        "    system = system_id(device)\n",
        "    return system"
      ]
    },
    {
      "cell_type": "code",
      "execution_count": null,
      "metadata": {
        "colab": {
          "base_uri": "https://localhost:8080/"
        },
        "id": "kwcpMsrwXVQQ",
        "outputId": "0fb8c015-50f4-4ba4-cf86-2f1fe4f926b1"
      },
      "outputs": [
        {
          "name": "stdout",
          "output_type": "stream",
          "text": [
            "182\n"
          ]
        }
      ],
      "source": [
        "print(system_id_from_index(query_camera))"
      ]
    },
    {
      "cell_type": "code",
      "execution_count": null,
      "metadata": {
        "colab": {
          "base_uri": "https://localhost:8080/"
        },
        "id": "rVWlO5Yhjp28",
        "outputId": "56ce91ed-7f71-4f03-83a6-575afd7f8a4e"
      },
      "outputs": [
        {
          "name": "stdout",
          "output_type": "stream",
          "text": [
            "283\n",
            "283\n",
            "283\n",
            "283\n",
            "283\n",
            "81\n",
            "283\n",
            "283\n",
            "182\n",
            "81\n",
            "283\n",
            "283\n",
            "283\n",
            "283\n",
            "283\n",
            "182\n",
            "283\n"
          ]
        }
      ],
      "source": [
        "for k in high_k:\n",
        "    print(system_id_from_index(k[0]))"
      ]
    },
    {
      "cell_type": "markdown",
      "metadata": {
        "id": "ATVGi7wDRlIb"
      },
      "source": [
        "# Idea 6 (HITS (Hubs and Authority))\n",
        "#### In this part cameras are hubs and dates are auhorities and then by using SVD we implement HITS algorithm. \n"
      ]
    },
    {
      "cell_type": "markdown",
      "metadata": {
        "id": "hUdrbcLDP9ai"
      },
      "source": [
        "#### At first we impelement a code to keep only 7 days of the data. The result is in the below cell."
      ]
    },
    {
      "cell_type": "code",
      "execution_count": null,
      "metadata": {
        "colab": {
          "base_uri": "https://localhost:8080/"
        },
        "id": "NHr3fsoHR2gs",
        "outputId": "024a4307-1a2a-4aca-e225-36bb648cf8d5"
      },
      "outputs": [
        {
          "name": "stdout",
          "output_type": "stream",
          "text": [
            "+-----------+---------+---------------+-------------+----------------+----------+-------------------+---+\n",
            "|DEVICE_CODE|SYSTEM_ID|ORIGINE_CAR_KEY|FINAL_CAR_KEY|CHECK_STATUS_KEY|COMPANY_ID|      PASS_DAY_TIME|day|\n",
            "+-----------+---------+---------------+-------------+----------------+----------+-------------------+---+\n",
            "|   22010047|      284|       63455590|     63455590|               6|       161|2021-12-22 00:59:30|356|\n",
            "|   22010054|      284|       63566637|     64111706|               7|       161|2021-12-22 01:24:58|356|\n",
            "|   22010057|      284|       63653636|     63653636|               6|       161|2021-12-22 00:46:37|356|\n",
            "|   22010039|      284|       63562975|     64111706|               7|       161|2021-12-22 00:27:32|356|\n",
            "|   22010053|      284|       63634047|     64111706|               7|       161|2021-12-22 01:29:24|356|\n",
            "|  100701119|      284|       63466030|     64111706|               7|       161|2021-12-22 01:05:33|356|\n",
            "|   22010047|      284|       63479234|     63479234|               6|       161|2021-12-22 00:48:53|356|\n",
            "|   22010078|      284|       63474042|     64111706|               7|       161|2021-12-22 01:31:40|356|\n",
            "|  100701298|      284|       63473689|     63473689|               6|       264|2021-12-22 00:25:50|356|\n",
            "|   22010054|      284|       62996037|     62996037|               6|       161|2021-12-22 00:50:17|356|\n",
            "+-----------+---------+---------------+-------------+----------------+----------+-------------------+---+\n",
            "only showing top 10 rows\n",
            "\n"
          ]
        }
      ],
      "source": [
        "df = df.withColumn('day', dayofyear(df.PASS_DAY_TIME))\n",
        "df = df.filter(df.day != 159)\n",
        "df.show(10)"
      ]
    },
    {
      "cell_type": "code",
      "execution_count": null,
      "metadata": {
        "colab": {
          "base_uri": "https://localhost:8080/"
        },
        "id": "VH80XQcZM728",
        "outputId": "8c5bf7a3-fe90-4321-ee44-b28af76b5204"
      },
      "outputs": [
        {
          "name": "stdout",
          "output_type": "stream",
          "text": [
            "+-----------+-------------+----+\n",
            "|DEVICE_CODE|FINAL_CAR_KEY|time|\n",
            "+-----------+-------------+----+\n",
            "|   22010047|     63455590|  72|\n",
            "|   22010054|     64111706|  73|\n",
            "|   22010057|     63653636|  72|\n",
            "|   22010039|     64111706|  72|\n",
            "|   22010053|     64111706|  73|\n",
            "|  100701119|     64111706|  73|\n",
            "|   22010047|     63479234|  72|\n",
            "|   22010078|     64111706|  73|\n",
            "|  100701298|     63473689|  72|\n",
            "|   22010054|     62996037|  72|\n",
            "|   22010054|     64111706|  73|\n",
            "|   22010044|     62982992|  73|\n",
            "|  100701144|     63604895|  72|\n",
            "|   22010053|     64111706|  72|\n",
            "|   22010044|     63011708|  73|\n",
            "|   22010039|     63318470|  72|\n",
            "|   22010048|     63594865|  73|\n",
            "|  100701148|     64111706|  74|\n",
            "|   22010054|     63326471|  72|\n",
            "|   22010047|     63547093|  72|\n",
            "+-----------+-------------+----+\n",
            "only showing top 20 rows\n",
            "\n"
          ]
        }
      ],
      "source": [
        "from pyspark.sql.functions import hour,dayofweek, count\n",
        "from pyspark.sql.window import Window\n",
        "\n",
        "df_with_time = df.withColumn('time', (dayofweek(df.PASS_DAY_TIME)-1)*24 + hour(df.PASS_DAY_TIME))\n",
        "df_with_time = df_with_time.select('DEVICE_CODE', 'FINAL_CAR_KEY', 'time')\n",
        "df_with_time.show(20)"
      ]
    },
    {
      "cell_type": "markdown",
      "metadata": {
        "id": "xb0al85jRlxq"
      },
      "source": [
        "#### In this part we calculate number of recording of cameras in specific hours of the week. The code of this part is shown in below cell."
      ]
    },
    {
      "cell_type": "code",
      "execution_count": null,
      "metadata": {
        "colab": {
          "base_uri": "https://localhost:8080/"
        },
        "id": "BmRRYGcySGuF",
        "outputId": "fd8e20c9-67ae-401c-fe6c-2364c90528a6"
      },
      "outputs": [
        {
          "name": "stdout",
          "output_type": "stream",
          "text": [
            "+-----------+----+-----+\n",
            "|DEVICE_CODE|time|count|\n",
            "+-----------+----+-----+\n",
            "|     631776|  72|  349|\n",
            "|     900155|  73| 2189|\n",
            "|  100701295|  73|  170|\n",
            "|     631346|  73|  500|\n",
            "|     202601|  73|  288|\n",
            "|     900243|  75|  336|\n",
            "|     900208|  75|   49|\n",
            "|   10015201|  72|   39|\n",
            "|     631860|  77|   12|\n",
            "|     230201|  77|  459|\n",
            "|     200502|  74|  143|\n",
            "|  100700928|  77|    8|\n",
            "|  100700929|  77|  171|\n",
            "|  100700943|  77|   62|\n",
            "|   22010077|  78|  141|\n",
            "|        118|  79|  687|\n",
            "|   22009912|  78|  453|\n",
            "|     206401|  79|   50|\n",
            "|     900222|  81|20485|\n",
            "|        157|  80|  293|\n",
            "+-----------+----+-----+\n",
            "only showing top 20 rows\n",
            "\n"
          ]
        }
      ],
      "source": [
        "camera_time = df_with_time.groupBy('DEVICE_CODE','time').count()\n",
        "camera_time.show(20)"
      ]
    },
    {
      "cell_type": "markdown",
      "metadata": {
        "id": "BD8gZCBtTDNF"
      },
      "source": [
        "#### In this part we obtain indices of cameras. In this part we get a matrix which each elements of that shows the number of repeat of recording of a camera in an specific time. The claimed matrix is sparse."
      ]
    },
    {
      "cell_type": "code",
      "execution_count": null,
      "metadata": {
        "colab": {
          "base_uri": "https://localhost:8080/"
        },
        "id": "oLP4lfmGSxxn",
        "outputId": "84080770-d763-489b-9590-1a07ba6447d6"
      },
      "outputs": [
        {
          "name": "stdout",
          "output_type": "stream",
          "text": [
            "+-----------+----+-----+------+\n",
            "|DEVICE_CODE|time|count|camera|\n",
            "+-----------+----+-----+------+\n",
            "|     631776|  72|  349| 289.0|\n",
            "|     900155|  73| 2189| 356.0|\n",
            "|  100701295|  73|  170|  75.0|\n",
            "|     631346|  73|  500| 242.0|\n",
            "|     202601|  73|  288| 141.0|\n",
            "|     900243|  75|  336| 417.0|\n",
            "|     900208|  75|   49| 390.0|\n",
            "|   10015201|  72|   39|   1.0|\n",
            "|     631860|  77|   12| 773.0|\n",
            "|     230201|  77|  459| 238.0|\n",
            "+-----------+----+-----+------+\n",
            "only showing top 10 rows\n",
            "\n"
          ]
        }
      ],
      "source": [
        "from pyspark.ml.feature import StringIndexer\n",
        "from pyspark.mllib.linalg.distributed import CoordinateMatrix\n",
        "\n",
        "camera_time_index = StringIndexer(inputCol='DEVICE_CODE', outputCol='camera').fit(camera_time).transform(camera_time)\n",
        "camera_time_index.show(10)"
      ]
    },
    {
      "cell_type": "code",
      "execution_count": null,
      "metadata": {
        "id": "jUpO-QdQS5if"
      },
      "outputs": [],
      "source": [
        "utility_matrix = CoordinateMatrix(camera_time_index.rdd.map(lambda x: (int(x['camera']), int(x['time']), x['count']) ))"
      ]
    },
    {
      "cell_type": "markdown",
      "metadata": {
        "id": "4qAoddlMMaVN"
      },
      "source": [
        "#### Now in this part we obtain SVD decomposition with using \"computeSVD\" function."
      ]
    },
    {
      "cell_type": "code",
      "execution_count": null,
      "metadata": {
        "colab": {
          "base_uri": "https://localhost:8080/"
        },
        "id": "3EWBkhAcVC1M",
        "outputId": "80772184-a59b-401e-d416-1a42607b949f"
      },
      "outputs": [
        {
          "name": "stdout",
          "output_type": "stream",
          "text": [
            "<pyspark.mllib.linalg.distributed.RowMatrix object at 0x7f0022f18520>\n",
            "[913613.3833609925,161431.4822213686,125045.04882070693,107857.6464057058,66946.98523792837,56854.19886044264,43872.540556416825,42502.35737194919,37281.87638595839,31210.08809583634]\n",
            "DenseMatrix([[ 0.0217443 ,  0.04601229,  0.00699322, ...,  0.01976395,\n",
            "               0.02304085, -0.03757555],\n",
            "             [ 0.01128578,  0.02411711,  0.00458725, ...,  0.00858557,\n",
            "               0.01564264, -0.02184714],\n",
            "             [ 0.00607069,  0.01289313,  0.00267201, ...,  0.00278783,\n",
            "               0.00681808, -0.01578905],\n",
            "             ...,\n",
            "             [ 0.06321996,  0.11487845, -0.00067657, ...,  0.04624727,\n",
            "               0.02925103, -0.00082883],\n",
            "             [ 0.04658058,  0.09012394,  0.01523558, ...,  0.03297025,\n",
            "               0.02890861, -0.01833741],\n",
            "             [ 0.03351419,  0.06805785,  0.01317022, ...,  0.02602925,\n",
            "               0.02864358, -0.02220645]])\n"
          ]
        }
      ],
      "source": [
        "svd = utility_matrix.toRowMatrix().computeSVD(10, computeU=True)\n",
        "u = svd.U\n",
        "s = svd.s\n",
        "v = svd.V\n",
        "\n",
        "print(u)\n",
        "print(s)\n",
        "print(v)"
      ]
    },
    {
      "cell_type": "markdown",
      "metadata": {
        "id": "YLCaHvv8WTwy"
      },
      "source": [
        "#### Now in this part we obtain value of hubs and authorities."
      ]
    },
    {
      "cell_type": "code",
      "execution_count": null,
      "metadata": {
        "colab": {
          "base_uri": "https://localhost:8080/"
        },
        "id": "4KsDKRjpXDue",
        "outputId": "857e1735-d8ee-42e8-aaa7-95aa588286d4"
      },
      "outputs": [
        {
          "name": "stdout",
          "output_type": "stream",
          "text": [
            "number of cameras:  983\n",
            "number of times:  168\n",
            "camera ratings:  [0.0016250564789704396, 0.0009448727733247473, 0.08171202336981039, 4.89498709178366e-05, 0.005143636058838462, 0.0032271343672375255, 9.602170950617119e-05, 0.00015499678781607837, 0.0007589294946727687, 0.009261732402586023, 0.035120187258503424, 0.00019683625833899826, 0.02195030440403065, 0.025109953206669797, 0.030029007020436888, 0.0018984101650040325, 0.00010737674659877901, 3.055686934425626e-05, 0.029582923365435325, 0.005637610052565331]\n",
            "time ratings:  [0.0217443  0.01128578 0.00607069 0.00408094 0.00519909 0.02079871\n",
            " 0.06795868 0.09221338 0.09161516 0.09361262 0.09391856 0.09224958\n",
            " 0.09159044 0.09028759 0.09397224 0.09387924 0.09061122 0.08189372\n",
            " 0.07971545 0.08008814]\n"
          ]
        }
      ],
      "source": [
        "hubs = u.rows.map(lambda x: x.toArray()[0]).collect()\n",
        "authorities = v.toArray()\n",
        "authorities = authorities[:,0]\n",
        "print('number of cameras: ', len(hubs))\n",
        "print('number of times: ', len(authorities))\n",
        "\n",
        "print('camera ratings: ', hubs[:20])\n",
        "print('time ratings: ', authorities[:20])"
      ]
    },
    {
      "cell_type": "markdown",
      "metadata": {
        "id": "bQFElqngYbNF"
      },
      "source": [
        "#### Now in this part, we plot the histogram of hours of the week which shows which time of the week has the most amount of cameras recordings. The result is shown in below cell."
      ]
    },
    {
      "cell_type": "code",
      "execution_count": null,
      "metadata": {
        "colab": {
          "base_uri": "https://localhost:8080/",
          "height": 402
        },
        "id": "1yQ0DCPUZstu",
        "outputId": "4b2d5183-f97e-443f-fe47-e0823fd40478"
      },
      "outputs": [
        {
          "data": {
            "image/png": "[encoded data removed]",
            "text/plain": [
              "<Figure size 2160x720 with 1 Axes>"
            ]
          },
          "metadata": {
            "needs_background": "light"
          },
          "output_type": "display_data"
        }
      ],
      "source": [
        "from matplotlib import pyplot as plt\n",
        "fig = plt.figure(figsize = (30, 10))\n",
        "names = list(map(lambda x: str(x), range(len(authorities))))\n",
        "plt.bar(names, authorities, color ='black', width = 0.4)\n",
        "plt.xticks(rotation='vertical',fontsize=7)\n",
        "plt.title('weekdays')\n",
        "plt.show()"
      ]
    },
    {
      "cell_type": "markdown",
      "metadata": {
        "id": "L8cxX-7gb-LZ"
      },
      "source": [
        "#### As it can be seen, the fifth day of the week has the most recording of the cameras of passing cars. We can conclude that, that day might be the most busy and populated day."
      ]
    },
    {
      "cell_type": "markdown",
      "metadata": {
        "id": "Ftd3P6egb1uv"
      },
      "source": [
        "#### Now in this part we HITS value of cameras in below. "
      ]
    },
    {
      "cell_type": "code",
      "execution_count": null,
      "metadata": {
        "colab": {
          "base_uri": "https://localhost:8080/",
          "height": 394
        },
        "id": "vyuUZ6mbcemj",
        "outputId": "020fd3ce-6cf8-43fc-e9ad-dcfc1da1ae1d"
      },
      "outputs": [
        {
          "data": {
            "image/png": "[encoded data removed]",
            "text/plain": [
              "<Figure size 2160x720 with 1 Axes>"
            ]
          },
          "metadata": {
            "needs_background": "light"
          },
          "output_type": "display_data"
        }
      ],
      "source": [
        "fig = plt.figure(figsize = (30, 10))\n",
        "names = list(map(lambda x: str(x), range(len(hubs))))\n",
        "plt.bar(names, hubs, color ='black', width = 0.4)\n",
        "plt.xticks(rotation='vertical',fontsize=1)\n",
        "plt.title('HITS values')\n",
        "plt.show()"
      ]
    },
    {
      "cell_type": "markdown",
      "metadata": {
        "id": "pvDJvkDjebI-"
      },
      "source": [
        "#### As we can see we can coclude the amount of probability of activity of each cameras in specific hours which can shows that each road can be more crowded in each day of the week. But as I said it's just a posibility that shows the activity of recording of each camera and cannot conclude us to a valid results."
      ]
    },
    {
      "cell_type": "markdown",
      "metadata": {
        "id": "TQcbDd87fyUy"
      },
      "source": [
        "#### Now we can plot the histogram of the activity of each camera in specific hours of each day. The plots of this part are shown in below cell."
      ]
    },
    {
      "cell_type": "code",
      "execution_count": null,
      "metadata": {
        "colab": {
          "base_uri": "https://localhost:8080/",
          "height": 1000
        },
        "id": "X-Cb2jecfc1J",
        "outputId": "cc0e9912-63e4-4fcb-9d64-eb6810f0aa2a"
      },
      "outputs": [
        {
          "data": {
            "image/png": "[encoded data removed]",
            "text/plain": [
              "<Figure size 360x144 with 1 Axes>"
            ]
          },
          "metadata": {
            "needs_background": "light"
          },
          "output_type": "display_data"
        },
        {
          "data": {
            "image/png": "[encoded data removed]",
            "text/plain": [
              "<Figure size 360x144 with 1 Axes>"
            ]
          },
          "metadata": {
            "needs_background": "light"
          },
          "output_type": "display_data"
        },
        {
          "data": {
            "image/png": "[encoded data removed]",
            "text/plain": [
              "<Figure size 360x144 with 1 Axes>"
            ]
          },
          "metadata": {
            "needs_background": "light"
          },
          "output_type": "display_data"
        },
        {
          "data": {
            "image/png": "[encoded data removed]",
            "text/plain": [
              "<Figure size 360x144 with 1 Axes>"
            ]
          },
          "metadata": {
            "needs_background": "light"
          },
          "output_type": "display_data"
        },
        {
          "data": {
            "image/png": "[encoded data removed]",
            "text/plain": [
              "<Figure size 360x144 with 1 Axes>"
            ]
          },
          "metadata": {
            "needs_background": "light"
          },
          "output_type": "display_data"
        },
        {
          "data": {
            "image/png": "[encoded data removed]",
            "text/plain": [
              "<Figure size 360x144 with 1 Axes>"
            ]
          },
          "metadata": {
            "needs_background": "light"
          },
          "output_type": "display_data"
        },
        {
          "data": {
            "image/png": "[encoded data removed]",
            "text/plain": [
              "<Figure size 360x144 with 1 Axes>"
            ]
          },
          "metadata": {
            "needs_background": "light"
          },
          "output_type": "display_data"
        }
      ],
      "source": [
        "days = ['Sunday', 'Monday', 'Tuesday', 'Wednesday', 'Thursday', 'Friday', 'Saturday']\n",
        "\n",
        "for day_index, day in enumerate(days):\n",
        "    fig = plt.figure(figsize = (5, 2))\n",
        "    labels = list(map(lambda x: str(x), range(24)))\n",
        "    chart = authorities[day_index*24: (day_index+1)*24]\n",
        "    plt.bar(labels, chart, color ='black', width = 0.4)\n",
        "    plt.xticks(rotation='vertical',fontsize=4)\n",
        "    plt.title(day)\n",
        "    plt.show()"
      ]
    },
    {
      "cell_type": "markdown",
      "metadata": {
        "id": "CXrlucHjh-f1"
      },
      "source": [
        "#### As we can see, the amount of passing of cars in starting hours of the days are too low and it's too crowded in the middle of the day and night. The above histograms properly make sense with what is happening in real life because at the start of a data means, 00:00 people are still out of their houses and the streets are still crowded but at 03:00 AM streets become less crowded and at 05:00 AM that people starts to get out of their how for going to work, streets start to become more crowded and this process continues 09:00 PM and then streets start to become less crowded again because people go home at these hours. The behavior of people is different in different days. For example, morning of Fridays is less crowded because most of people in Iran are chilling or sleeping in their houses."
      ]
    },
    {
      "attachments": {},
      "cell_type": "markdown",
      "metadata": {},
      "source": [
        "# Conclusion and Other Ideas\n",
        "#### In this project, we deployed 6 ideas which some of them were recommended by project document and some of them were new. We could deploy more ideas for this data but unfortunately because of lack of time we couldn’t deploy them.\n",
        "#### 1. One of these ideas are finding anomaly cars by checking difference between time of their passing through near cameras and if this time is informally fast, we can count them as anomaly and can consume penalty for them.\n",
        "#### 2. The other one is following paths of cars by checking all history of their passing through different cameras in different times. With this approach we can find out that which streets each car passed during a specific time.\n",
        "#### 3. One of the interesting ideas is to check time of activities of each camera to figure out in which times their activities were a lot and in which times not. With this analyzing we can check activities of cameras and for example set a program to turn on and off cameras when their activities are more or less than normal mode.\n",
        "#### 4. Another interesting Ideas is controlling car traffic by checking amount passing cars through cameras and find most crowded streets and also find patterns of passing cars through each camera in each day of week.\n",
        "#### 5. The other idea is to find pattern of people behavior in days of week and vacations and find their most interesting streets for advertising and marketing and find busiest streets for putting billboards.\n"
      ]
    }
  ],
  "metadata": {
    "colab": {
      "provenance": []
    },
    "gpuClass": "standard",
    "interpreter": {
      "hash": "ae917f7814ccb34d4acac350c21a9b5c6bba089bcf202fb1054d30d044271271"
    },
    "kernelspec": {
      "display_name": "Python 3.9.7 64-bit ('HW-QXNApxFg': pipenv)",
      "language": "python",
      "name": "python3"
    },
    "language_info": {
      "codemirror_mode": {
        "name": "ipython",
        "version": 3
      },
      "file_extension": ".py",
      "mimetype": "text/x-python",
      "name": "python",
      "nbconvert_exporter": "python",
      "pygments_lexer": "ipython3",
      "version": "3.9.7"
    },
    "orig_nbformat": 4
  },
  "nbformat": 4,
  "nbformat_minor": 0
}
